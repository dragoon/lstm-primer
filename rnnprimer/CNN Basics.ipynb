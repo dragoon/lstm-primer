{
 "cells": [
  {
   "cell_type": "markdown",
   "metadata": {},
   "source": [
    "# Sequence classification with Neural Networks\n",
    "## Part 3: Basic CNN model"
   ]
  },
  {
   "cell_type": "code",
   "execution_count": 1,
   "metadata": {},
   "outputs": [],
   "source": [
    "# Load the TensorBoard notebook extension\n",
    "%load_ext tensorboard\n",
    "\n",
    "import altair as alt\n",
    "\n",
    "import numpy as np\n",
    "import pandas as pd\n",
    "\n",
    "import os\n",
    "import sys\n",
    "module_path = os.path.abspath(os.path.join('..'))\n",
    "if module_path not in sys.path:\n",
    "    sys.path.append(module_path)\n",
    "\n",
    "from rnnprimer.datagen import generate_sample, Dataset"
   ]
  },
  {
   "cell_type": "markdown",
   "metadata": {},
   "source": [
    "We're going to build a standard CNN architecture based on [this post](https://machinelearningmastery.com/cnn-models-for-human-activity-recognition-time-series-classification/) with two Conv1D layers and a single output layer for binary classification.\n",
    "\n",
    "The learning rate is adjusted with a schedule for faster convergence given our simple data."
   ]
  },
  {
   "cell_type": "code",
   "execution_count": 2,
   "metadata": {},
   "outputs": [],
   "source": [
    "import tensorflow as tf\n",
    "lr_schedule = tf.keras.optimizers.schedules.ExponentialDecay(\n",
    "        0.01,\n",
    "        decay_steps=1000,\n",
    "        decay_rate=0.5)\n",
    "\n",
    "def get_cnn_model(n_features, n_timesteps):\n",
    "    cnn_model = tf.keras.Sequential(\n",
    "        [\n",
    "            tf.keras.layers.Reshape((n_timesteps, n_features)),\n",
    "            tf.keras.layers.Conv1D(filters=32, kernel_size=3, activation='relu', input_shape=(n_timesteps, n_features)),\n",
    "            tf.keras.layers.Conv1D(filters=32, kernel_size=3, activation='relu'),\n",
    "            tf.keras.layers.Dropout(0.5),\n",
    "            tf.keras.layers.MaxPool1D(pool_size=1),\n",
    "            tf.keras.layers.Flatten(),\n",
    "            tf.keras.layers.Dense(20, activation='relu'),\n",
    "            tf.keras.layers.Dense(1, activation=\"sigmoid\")\n",
    "        ]\n",
    "    )\n",
    "\n",
    "    cnn_model.compile(\n",
    "            loss=\"binary_crossentropy\",\n",
    "            optimizer=tf.keras.optimizers.RMSprop(learning_rate=lr_schedule),\n",
    "            metrics=[tf.keras.metrics.BinaryAccuracy()]\n",
    "    )\n",
    "    return cnn_model"
   ]
  },
  {
   "cell_type": "code",
   "execution_count": 3,
   "metadata": {},
   "outputs": [
    {
     "name": "stdout",
     "output_type": "stream",
     "text": [
      "0.01\n",
      "0.05\n",
      "0.1\n",
      "0.2\n",
      "0.3\n",
      "0.4\n",
      "0.5\n",
      "0.6\n",
      "0.7\n",
      "0.8\n",
      "0.9\n",
      "1.0\n"
     ]
    }
   ],
   "source": [
    "data_cnn = []\n",
    "n_timesteps=5\n",
    "\n",
    "for outlier_prob in (0.01, 0.05, 0.1, 0.2, 0.3, 0.4, 0.5, 0.6, 0.7, 0.8, 0.9, 1.0):\n",
    "    print(outlier_prob)\n",
    "    dataset = Dataset.generate(train_outlier_prob=outlier_prob, n_samples=100)\n",
    "    model = get_cnn_model(n_features=1, n_timesteps=n_timesteps)\n",
    "\n",
    "    model.fit(\n",
    "        x=dataset.to_cnn_tfds(n_timesteps, batch_size=200),\n",
    "        epochs=10,\n",
    "        verbose=0\n",
    "    )\n",
    "    dataset = Dataset.generate(train_outlier_prob=outlier_prob, n_samples=20)\n",
    "    res = model.evaluate(dataset.to_cnn_tfds(n_timesteps), verbose=0)\n",
    "    data_cnn.append({'outlier_prob': outlier_prob, 'accuracy': res[1], 'window_size': n_timesteps})\n",
    "    \n",
    "df_cnn = pd.DataFrame(data_cnn)"
   ]
  },
  {
   "cell_type": "code",
   "execution_count": 4,
   "metadata": {},
   "outputs": [
    {
     "data": {
      "text/html": [
       "\n",
       "<div id=\"altair-viz-56136fba083345cd890020ecb81fb40f\"></div>\n",
       "<script type=\"text/javascript\">\n",
       "  (function(spec, embedOpt){\n",
       "    let outputDiv = document.currentScript.previousElementSibling;\n",
       "    if (outputDiv.id !== \"altair-viz-56136fba083345cd890020ecb81fb40f\") {\n",
       "      outputDiv = document.getElementById(\"altair-viz-56136fba083345cd890020ecb81fb40f\");\n",
       "    }\n",
       "    const paths = {\n",
       "      \"vega\": \"https://cdn.jsdelivr.net/npm//vega@5?noext\",\n",
       "      \"vega-lib\": \"https://cdn.jsdelivr.net/npm//vega-lib?noext\",\n",
       "      \"vega-lite\": \"https://cdn.jsdelivr.net/npm//vega-lite@4.8.1?noext\",\n",
       "      \"vega-embed\": \"https://cdn.jsdelivr.net/npm//vega-embed@6?noext\",\n",
       "    };\n",
       "\n",
       "    function loadScript(lib) {\n",
       "      return new Promise(function(resolve, reject) {\n",
       "        var s = document.createElement('script');\n",
       "        s.src = paths[lib];\n",
       "        s.async = true;\n",
       "        s.onload = () => resolve(paths[lib]);\n",
       "        s.onerror = () => reject(`Error loading script: ${paths[lib]}`);\n",
       "        document.getElementsByTagName(\"head\")[0].appendChild(s);\n",
       "      });\n",
       "    }\n",
       "\n",
       "    function showError(err) {\n",
       "      outputDiv.innerHTML = `<div class=\"error\" style=\"color:red;\">${err}</div>`;\n",
       "      throw err;\n",
       "    }\n",
       "\n",
       "    function displayChart(vegaEmbed) {\n",
       "      vegaEmbed(outputDiv, spec, embedOpt)\n",
       "        .catch(err => showError(`Javascript Error: ${err.message}<br>This usually means there's a typo in your chart specification. See the javascript console for the full traceback.`));\n",
       "    }\n",
       "\n",
       "    if(typeof define === \"function\" && define.amd) {\n",
       "      requirejs.config({paths});\n",
       "      require([\"vega-embed\"], displayChart, err => showError(`Error loading script: ${err.message}`));\n",
       "    } else if (typeof vegaEmbed === \"function\") {\n",
       "      displayChart(vegaEmbed);\n",
       "    } else {\n",
       "      loadScript(\"vega\")\n",
       "        .then(() => loadScript(\"vega-lite\"))\n",
       "        .then(() => loadScript(\"vega-embed\"))\n",
       "        .catch(showError)\n",
       "        .then(() => displayChart(vegaEmbed));\n",
       "    }\n",
       "  })({\"config\": {\"view\": {\"continuousWidth\": 400, \"continuousHeight\": 300}}, \"data\": {\"name\": \"data-424f7f3ee0c60bc5a823e4831eec250d\"}, \"mark\": \"line\", \"encoding\": {\"x\": {\"type\": \"quantitative\", \"field\": \"outlier_prob\"}, \"y\": {\"type\": \"quantitative\", \"field\": \"accuracy\"}}, \"$schema\": \"https://vega.github.io/schema/vega-lite/v4.8.1.json\", \"datasets\": {\"data-424f7f3ee0c60bc5a823e4831eec250d\": [{\"outlier_prob\": 0.01, \"accuracy\": 0.9997814893722534, \"window_size\": 5}, {\"outlier_prob\": 0.05, \"accuracy\": 0.9981626868247986, \"window_size\": 5}, {\"outlier_prob\": 0.1, \"accuracy\": 0.9969597458839417, \"window_size\": 5}, {\"outlier_prob\": 0.2, \"accuracy\": 0.9965614676475525, \"window_size\": 5}, {\"outlier_prob\": 0.3, \"accuracy\": 0.9923903942108154, \"window_size\": 5}, {\"outlier_prob\": 0.4, \"accuracy\": 0.98898845911026, \"window_size\": 5}, {\"outlier_prob\": 0.5, \"accuracy\": 0.9766187071800232, \"window_size\": 5}, {\"outlier_prob\": 0.6, \"accuracy\": 0.9513279795646667, \"window_size\": 5}, {\"outlier_prob\": 0.7, \"accuracy\": 0.8974137902259827, \"window_size\": 5}, {\"outlier_prob\": 0.8, \"accuracy\": 0.8166624903678894, \"window_size\": 5}, {\"outlier_prob\": 0.9, \"accuracy\": 0.6905236840248108, \"window_size\": 5}, {\"outlier_prob\": 1.0, \"accuracy\": 0.49974358081817627, \"window_size\": 5}]}}, {\"mode\": \"vega-lite\"});\n",
       "</script>"
      ],
      "text/plain": [
       "alt.Chart(...)"
      ]
     },
     "execution_count": 4,
     "metadata": {},
     "output_type": "execute_result"
    }
   ],
   "source": [
    "alt.Chart(df_cnn[(df_cnn['window_size']==5)]).mark_line().encode(x='outlier_prob', y='accuracy')"
   ]
  },
  {
   "cell_type": "markdown",
   "metadata": {},
   "source": [
    "CNN performance looks pretty good too, with a faster than RNN decline with high outlier probabilities. Performance here may also depend on the number of previous observations we give to the network. The fewer previous observations there are, the higher the chance that all of them would be outliers. So let's see what effect has the **window size** on the network performance."
   ]
  },
  {
   "cell_type": "code",
   "execution_count": null,
   "metadata": {},
   "outputs": [],
   "source": [
    "data_cnn = []\n",
    "n_timesteps=10\n",
    "for outlier_prob in (0.01, 0.05, 0.1, 0.2, 0.3, 0.4, 0.5, 0.6, 0.7, 0.8, 0.9, 1.0):\n",
    "    print(outlier_prob)\n",
    "    dataset = Dataset.generate(train_outlier_prob=outlier_prob, n_samples=100)\n",
    "    model = get_cnn_model(n_features=1, n_timesteps=n_timesteps)\n",
    "\n",
    "    model.fit(\n",
    "        x=dataset.to_cnn_tfds(n_timesteps, batch_size=200),\n",
    "        epochs=10,\n",
    "        verbose=0\n",
    "    )\n",
    "    dataset = Dataset.generate(train_outlier_prob=outlier_prob, n_samples=20)\n",
    "    res = model.evaluate(dataset.to_cnn_tfds(n_timesteps), verbose=0)\n",
    "    data_cnn.append({'outlier_prob': outlier_prob, 'accuracy': res[1], 'window_size': n_timesteps})\n",
    "\n",
    "df_cnn = df_cnn.append(pd.DataFrame(data_cnn))"
   ]
  },
  {
   "cell_type": "code",
   "execution_count": 9,
   "metadata": {},
   "outputs": [
    {
     "data": {
      "text/html": [
       "\n",
       "<div id=\"altair-viz-a6c100d1be524e83abb45b9c987eb6fb\"></div>\n",
       "<script type=\"text/javascript\">\n",
       "  (function(spec, embedOpt){\n",
       "    let outputDiv = document.currentScript.previousElementSibling;\n",
       "    if (outputDiv.id !== \"altair-viz-a6c100d1be524e83abb45b9c987eb6fb\") {\n",
       "      outputDiv = document.getElementById(\"altair-viz-a6c100d1be524e83abb45b9c987eb6fb\");\n",
       "    }\n",
       "    const paths = {\n",
       "      \"vega\": \"https://cdn.jsdelivr.net/npm//vega@5?noext\",\n",
       "      \"vega-lib\": \"https://cdn.jsdelivr.net/npm//vega-lib?noext\",\n",
       "      \"vega-lite\": \"https://cdn.jsdelivr.net/npm//vega-lite@4.8.1?noext\",\n",
       "      \"vega-embed\": \"https://cdn.jsdelivr.net/npm//vega-embed@6?noext\",\n",
       "    };\n",
       "\n",
       "    function loadScript(lib) {\n",
       "      return new Promise(function(resolve, reject) {\n",
       "        var s = document.createElement('script');\n",
       "        s.src = paths[lib];\n",
       "        s.async = true;\n",
       "        s.onload = () => resolve(paths[lib]);\n",
       "        s.onerror = () => reject(`Error loading script: ${paths[lib]}`);\n",
       "        document.getElementsByTagName(\"head\")[0].appendChild(s);\n",
       "      });\n",
       "    }\n",
       "\n",
       "    function showError(err) {\n",
       "      outputDiv.innerHTML = `<div class=\"error\" style=\"color:red;\">${err}</div>`;\n",
       "      throw err;\n",
       "    }\n",
       "\n",
       "    function displayChart(vegaEmbed) {\n",
       "      vegaEmbed(outputDiv, spec, embedOpt)\n",
       "        .catch(err => showError(`Javascript Error: ${err.message}<br>This usually means there's a typo in your chart specification. See the javascript console for the full traceback.`));\n",
       "    }\n",
       "\n",
       "    if(typeof define === \"function\" && define.amd) {\n",
       "      requirejs.config({paths});\n",
       "      require([\"vega-embed\"], displayChart, err => showError(`Error loading script: ${err.message}`));\n",
       "    } else if (typeof vegaEmbed === \"function\") {\n",
       "      displayChart(vegaEmbed);\n",
       "    } else {\n",
       "      loadScript(\"vega\")\n",
       "        .then(() => loadScript(\"vega-lite\"))\n",
       "        .then(() => loadScript(\"vega-embed\"))\n",
       "        .catch(showError)\n",
       "        .then(() => displayChart(vegaEmbed));\n",
       "    }\n",
       "  })({\"config\": {\"view\": {\"continuousWidth\": 400, \"continuousHeight\": 300}}, \"data\": {\"name\": \"data-ce073bfce9bae9ff1fccc4d1fbec4390\"}, \"mark\": \"line\", \"encoding\": {\"color\": {\"type\": \"nominal\", \"field\": \"window_size\"}, \"x\": {\"type\": \"quantitative\", \"field\": \"outlier_prob\"}, \"y\": {\"type\": \"quantitative\", \"field\": \"accuracy\"}}, \"$schema\": \"https://vega.github.io/schema/vega-lite/v4.8.1.json\", \"datasets\": {\"data-ce073bfce9bae9ff1fccc4d1fbec4390\": [{\"outlier_prob\": 0.01, \"accuracy\": 0.9997490048408508, \"window_size\": 5}, {\"outlier_prob\": 0.05, \"accuracy\": 0.9987449645996094, \"window_size\": 5}, {\"outlier_prob\": 0.1, \"accuracy\": 0.9989457726478577, \"window_size\": 5}, {\"outlier_prob\": 0.2, \"accuracy\": 0.9977409839630127, \"window_size\": 5}, {\"outlier_prob\": 0.3, \"accuracy\": 0.9958333373069763, \"window_size\": 5}, {\"outlier_prob\": 0.4, \"accuracy\": 0.9919176697731018, \"window_size\": 5}, {\"outlier_prob\": 0.5, \"accuracy\": 0.9765562415122986, \"window_size\": 5}, {\"outlier_prob\": 0.6, \"accuracy\": 0.9495481848716736, \"window_size\": 5}, {\"outlier_prob\": 0.7, \"accuracy\": 0.8958835601806641, \"window_size\": 5}, {\"outlier_prob\": 0.8, \"accuracy\": 0.8217871189117432, \"window_size\": 5}, {\"outlier_prob\": 0.9, \"accuracy\": 0.6919678449630737, \"window_size\": 5}, {\"outlier_prob\": 1.0, \"accuracy\": 0.5020080208778381, \"window_size\": 5}, {\"outlier_prob\": 0.01, \"accuracy\": 0.99994957447052, \"window_size\": 10}, {\"outlier_prob\": 0.05, \"accuracy\": 0.9973763823509216, \"window_size\": 10}, {\"outlier_prob\": 0.1, \"accuracy\": 0.9988899827003479, \"window_size\": 10}, {\"outlier_prob\": 0.2, \"accuracy\": 0.9976286292076111, \"window_size\": 10}, {\"outlier_prob\": 0.3, \"accuracy\": 0.9958627820014954, \"window_size\": 10}, {\"outlier_prob\": 0.4, \"accuracy\": 0.9943491220474243, \"window_size\": 10}, {\"outlier_prob\": 0.5, \"accuracy\": 0.9901109933853149, \"window_size\": 10}, {\"outlier_prob\": 0.6, \"accuracy\": 0.9858223795890808, \"window_size\": 10}, {\"outlier_prob\": 0.7, \"accuracy\": 0.9697780013084412, \"window_size\": 10}, {\"outlier_prob\": 0.8, \"accuracy\": 0.9268415570259094, \"window_size\": 10}, {\"outlier_prob\": 0.9, \"accuracy\": 0.7980827689170837, \"window_size\": 10}, {\"outlier_prob\": 1.0, \"accuracy\": 0.5045408606529236, \"window_size\": 10}]}}, {\"mode\": \"vega-lite\"});\n",
       "</script>"
      ],
      "text/plain": [
       "alt.Chart(...)"
      ]
     },
     "execution_count": 9,
     "metadata": {},
     "output_type": "execute_result"
    }
   ],
   "source": [
    "alt.Chart(df_cnn).mark_line().encode(x='outlier_prob', y='accuracy', color='window_size:N')"
   ]
  },
  {
   "cell_type": "markdown",
   "metadata": {},
   "source": [
    "Our hypothesis confirmed, we can see that increasing the window size helps the model to perform better at higher levels of outliers."
   ]
  },
  {
   "cell_type": "markdown",
   "metadata": {},
   "source": [
    "Finally, as for RNN, let's see how the tensorboard graphs look like for CNN:"
   ]
  },
  {
   "cell_type": "code",
   "execution_count": null,
   "metadata": {},
   "outputs": [],
   "source": [
    "# Clear any logs from previous runs\n",
    "from datetime import datetime\n",
    "!rm -rf ./logs/\n",
    "log_dir = \"logs/fit/\" + datetime.now().strftime(\"%Y%m%d-%H%M%S\")\n",
    "tensorboard_callback = tf.keras.callbacks.TensorBoard(log_dir=log_dir, histogram_freq=1)\n",
    "\n",
    "dataset = Dataset.generate(n_samples=200)\n",
    "\n",
    "get_cnn_model(n_features=1, n_timesteps=5).fit(\n",
    "    x=dataset.to_cnn_tfds(n_timesteps, batch_size=200),\n",
    "    epochs=10,\n",
    "    callbacks=[tensorboard_callback]\n",
    ")\n",
    "\n",
    "%tensorboard --logdir logs/fit"
   ]
  }
 ],
 "metadata": {
  "kernelspec": {
   "display_name": "Python 3",
   "language": "python",
   "name": "python3"
  },
  "language_info": {
   "codemirror_mode": {
    "name": "ipython",
    "version": 3
   },
   "file_extension": ".py",
   "mimetype": "text/x-python",
   "name": "python",
   "nbconvert_exporter": "python",
   "pygments_lexer": "ipython3",
   "version": "3.7.7"
  }
 },
 "nbformat": 4,
 "nbformat_minor": 2
}
