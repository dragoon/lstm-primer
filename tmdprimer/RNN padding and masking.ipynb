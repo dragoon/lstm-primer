{
 "cells": [
  {
   "cell_type": "markdown",
   "metadata": {},
   "source": [
    "# RNN Primer\n",
    "## Part 2: Padding and masking\n",
    "\n",
    "In real world, we typically won't have time series samples of the same length. For example, one user was tracking his movement of 30 minutes, another for 1 hour, another for 10 minutes, etc.\n",
    "\n",
    "In the previous notebook, we truncated samples to the same length. To accomodate samples of different length, we need to use the techniques called **padding** and **masking**. Let's see how it's done.\n",
    "\n",
    "For details refer to the tensorflow guide: https://www.tensorflow.org/guide/keras/masking_and_padding"
   ]
  },
  {
   "cell_type": "code",
   "execution_count": 1,
   "metadata": {},
   "outputs": [],
   "source": [
    "# Load the TensorBoard notebook extension\n",
    "%load_ext tensorboard\n",
    "import altair as alt\n",
    "\n",
    "import numpy as np\n",
    "import pandas as pd\n",
    "\n",
    "import os\n",
    "import sys\n",
    "module_path = os.path.abspath(os.path.join('..'))\n",
    "if module_path not in sys.path:\n",
    "    sys.path.append(module_path)\n",
    "\n",
    "from rnnprimer.datagen import generate_sample, Dataset"
   ]
  },
  {
   "cell_type": "markdown",
   "metadata": {},
   "source": [
    "The methodology we use to generate data already generates sample of variable length.\n",
    "\n",
    "For now, we also keep the train/walk split at 50%."
   ]
  },
  {
   "cell_type": "code",
   "execution_count": 2,
   "metadata": {},
   "outputs": [
    {
     "data": {
      "text/html": [
       "\n",
       "<div id=\"altair-viz-05dda71402cc49059c20b341b3a962f2\"></div>\n",
       "<script type=\"text/javascript\">\n",
       "  (function(spec, embedOpt){\n",
       "    let outputDiv = document.currentScript.previousElementSibling;\n",
       "    if (outputDiv.id !== \"altair-viz-05dda71402cc49059c20b341b3a962f2\") {\n",
       "      outputDiv = document.getElementById(\"altair-viz-05dda71402cc49059c20b341b3a962f2\");\n",
       "    }\n",
       "    const paths = {\n",
       "      \"vega\": \"https://cdn.jsdelivr.net/npm//vega@5?noext\",\n",
       "      \"vega-lib\": \"https://cdn.jsdelivr.net/npm//vega-lib?noext\",\n",
       "      \"vega-lite\": \"https://cdn.jsdelivr.net/npm//vega-lite@4.8.1?noext\",\n",
       "      \"vega-embed\": \"https://cdn.jsdelivr.net/npm//vega-embed@6?noext\",\n",
       "    };\n",
       "\n",
       "    function loadScript(lib) {\n",
       "      return new Promise(function(resolve, reject) {\n",
       "        var s = document.createElement('script');\n",
       "        s.src = paths[lib];\n",
       "        s.async = true;\n",
       "        s.onload = () => resolve(paths[lib]);\n",
       "        s.onerror = () => reject(`Error loading script: ${paths[lib]}`);\n",
       "        document.getElementsByTagName(\"head\")[0].appendChild(s);\n",
       "      });\n",
       "    }\n",
       "\n",
       "    function showError(err) {\n",
       "      outputDiv.innerHTML = `<div class=\"error\" style=\"color:red;\">${err}</div>`;\n",
       "      throw err;\n",
       "    }\n",
       "\n",
       "    function displayChart(vegaEmbed) {\n",
       "      vegaEmbed(outputDiv, spec, embedOpt)\n",
       "        .catch(err => showError(`Javascript Error: ${err.message}<br>This usually means there's a typo in your chart specification. See the javascript console for the full traceback.`));\n",
       "    }\n",
       "\n",
       "    if(typeof define === \"function\" && define.amd) {\n",
       "      requirejs.config({paths});\n",
       "      require([\"vega-embed\"], displayChart, err => showError(`Error loading script: ${err.message}`));\n",
       "    } else if (typeof vegaEmbed === \"function\") {\n",
       "      displayChart(vegaEmbed);\n",
       "    } else {\n",
       "      loadScript(\"vega\")\n",
       "        .then(() => loadScript(\"vega-lite\"))\n",
       "        .then(() => loadScript(\"vega-embed\"))\n",
       "        .catch(showError)\n",
       "        .then(() => displayChart(vegaEmbed));\n",
       "    }\n",
       "  })({\"config\": {\"view\": {\"continuousWidth\": 400, \"continuousHeight\": 300}}, \"data\": {\"name\": \"data-3a6ab3fd4b87ca83656bbd0d006f5508\"}, \"mark\": \"line\", \"encoding\": {\"x\": {\"type\": \"quantitative\", \"field\": \"time step\"}, \"y\": {\"type\": \"quantitative\", \"field\": \"speed\"}}, \"title\": \"Sample without outliers\", \"width\": 800, \"$schema\": \"https://vega.github.io/schema/vega-lite/v4.8.1.json\", \"datasets\": {\"data-3a6ab3fd4b87ca83656bbd0d006f5508\": [{\"time step\": 0, \"speed\": 5.0}, {\"time step\": 1, \"speed\": 5.0}, {\"time step\": 2, \"speed\": 5.0}, {\"time step\": 3, \"speed\": 5.0}, {\"time step\": 4, \"speed\": 5.0}, {\"time step\": 5, \"speed\": 5.0}, {\"time step\": 6, \"speed\": 5.0}, {\"time step\": 7, \"speed\": 5.0}, {\"time step\": 8, \"speed\": 5.0}, {\"time step\": 9, \"speed\": 5.0}, {\"time step\": 10, \"speed\": 5.0}, {\"time step\": 11, \"speed\": 5.0}, {\"time step\": 12, \"speed\": 5.0}, {\"time step\": 13, \"speed\": 5.0}, {\"time step\": 14, \"speed\": 5.0}, {\"time step\": 15, \"speed\": 5.0}, {\"time step\": 16, \"speed\": 5.0}, {\"time step\": 17, \"speed\": 5.0}, {\"time step\": 18, \"speed\": 5.0}, {\"time step\": 19, \"speed\": 5.0}, {\"time step\": 20, \"speed\": 5.0}, {\"time step\": 21, \"speed\": 5.0}, {\"time step\": 22, \"speed\": 5.0}, {\"time step\": 23, \"speed\": 5.0}, {\"time step\": 24, \"speed\": 5.0}, {\"time step\": 25, \"speed\": 5.0}, {\"time step\": 26, \"speed\": 5.0}, {\"time step\": 27, \"speed\": 5.0}, {\"time step\": 28, \"speed\": 5.0}, {\"time step\": 29, \"speed\": 5.0}, {\"time step\": 30, \"speed\": 5.0}, {\"time step\": 31, \"speed\": 5.0}, {\"time step\": 32, \"speed\": 5.0}, {\"time step\": 33, \"speed\": 5.0}, {\"time step\": 34, \"speed\": 5.0}, {\"time step\": 35, \"speed\": 5.0}, {\"time step\": 36, \"speed\": 5.0}, {\"time step\": 37, \"speed\": 5.0}, {\"time step\": 38, \"speed\": 5.0}, {\"time step\": 39, \"speed\": 5.0}, {\"time step\": 40, \"speed\": 5.0}, {\"time step\": 41, \"speed\": 5.0}, {\"time step\": 42, \"speed\": 5.0}, {\"time step\": 43, \"speed\": 5.0}, {\"time step\": 44, \"speed\": 5.0}, {\"time step\": 45, \"speed\": 5.0}, {\"time step\": 46, \"speed\": 5.0}, {\"time step\": 47, \"speed\": 5.0}, {\"time step\": 48, \"speed\": 5.0}, {\"time step\": 49, \"speed\": 5.0}, {\"time step\": 50, \"speed\": 5.0}, {\"time step\": 51, \"speed\": 5.0}, {\"time step\": 52, \"speed\": 5.0}, {\"time step\": 53, \"speed\": 5.0}, {\"time step\": 54, \"speed\": 5.0}, {\"time step\": 55, \"speed\": 5.0}, {\"time step\": 56, \"speed\": 5.0}, {\"time step\": 57, \"speed\": 5.0}, {\"time step\": 58, \"speed\": 5.0}, {\"time step\": 59, \"speed\": 5.0}, {\"time step\": 60, \"speed\": 5.0}, {\"time step\": 61, \"speed\": 5.0}, {\"time step\": 62, \"speed\": 5.0}, {\"time step\": 63, \"speed\": 5.0}, {\"time step\": 64, \"speed\": 5.0}, {\"time step\": 65, \"speed\": 5.0}, {\"time step\": 66, \"speed\": 5.0}, {\"time step\": 67, \"speed\": 5.0}, {\"time step\": 68, \"speed\": 5.0}, {\"time step\": 69, \"speed\": 5.0}, {\"time step\": 70, \"speed\": 5.0}, {\"time step\": 71, \"speed\": 5.0}, {\"time step\": 72, \"speed\": 5.0}, {\"time step\": 73, \"speed\": 5.0}, {\"time step\": 74, \"speed\": 5.0}, {\"time step\": 75, \"speed\": 5.0}, {\"time step\": 76, \"speed\": 5.0}, {\"time step\": 77, \"speed\": 5.0}, {\"time step\": 78, \"speed\": 5.0}, {\"time step\": 79, \"speed\": 5.0}, {\"time step\": 80, \"speed\": 5.0}, {\"time step\": 81, \"speed\": 5.0}, {\"time step\": 82, \"speed\": 5.0}, {\"time step\": 83, \"speed\": 5.0}, {\"time step\": 84, \"speed\": 5.0}, {\"time step\": 85, \"speed\": 5.0}, {\"time step\": 86, \"speed\": 5.0}, {\"time step\": 87, \"speed\": 5.0}, {\"time step\": 88, \"speed\": 5.0}, {\"time step\": 89, \"speed\": 5.0}, {\"time step\": 90, \"speed\": 5.0}, {\"time step\": 91, \"speed\": 5.0}, {\"time step\": 92, \"speed\": 5.0}, {\"time step\": 93, \"speed\": 5.0}, {\"time step\": 94, \"speed\": 5.0}, {\"time step\": 95, \"speed\": 5.0}, {\"time step\": 96, \"speed\": 5.0}, {\"time step\": 97, \"speed\": 5.0}, {\"time step\": 98, \"speed\": 5.0}, {\"time step\": 99, \"speed\": 5.0}, {\"time step\": 100, \"speed\": 5.0}, {\"time step\": 101, \"speed\": 5.0}, {\"time step\": 102, \"speed\": 5.0}, {\"time step\": 103, \"speed\": 5.0}, {\"time step\": 104, \"speed\": 5.0}, {\"time step\": 105, \"speed\": 5.0}, {\"time step\": 106, \"speed\": 5.0}, {\"time step\": 107, \"speed\": 5.0}, {\"time step\": 108, \"speed\": 5.0}, {\"time step\": 109, \"speed\": 5.0}, {\"time step\": 110, \"speed\": 5.0}, {\"time step\": 111, \"speed\": 5.0}, {\"time step\": 112, \"speed\": 5.0}, {\"time step\": 113, \"speed\": 5.0}, {\"time step\": 114, \"speed\": 5.0}, {\"time step\": 115, \"speed\": 5.0}, {\"time step\": 116, \"speed\": 5.0}, {\"time step\": 117, \"speed\": 5.0}, {\"time step\": 118, \"speed\": 5.0}, {\"time step\": 119, \"speed\": 5.0}, {\"time step\": 120, \"speed\": 5.0}, {\"time step\": 121, \"speed\": 5.0}, {\"time step\": 122, \"speed\": 5.0}, {\"time step\": 123, \"speed\": 5.0}, {\"time step\": 124, \"speed\": 5.0}, {\"time step\": 125, \"speed\": 5.0}, {\"time step\": 126, \"speed\": 5.0}, {\"time step\": 127, \"speed\": 5.0}, {\"time step\": 128, \"speed\": 5.0}, {\"time step\": 129, \"speed\": 5.0}, {\"time step\": 130, \"speed\": 5.0}, {\"time step\": 131, \"speed\": 5.0}, {\"time step\": 132, \"speed\": 5.0}, {\"time step\": 133, \"speed\": 5.0}, {\"time step\": 134, \"speed\": 5.0}, {\"time step\": 135, \"speed\": 5.0}, {\"time step\": 136, \"speed\": 5.0}, {\"time step\": 137, \"speed\": 5.0}, {\"time step\": 138, \"speed\": 5.0}, {\"time step\": 139, \"speed\": 5.0}, {\"time step\": 140, \"speed\": 5.0}, {\"time step\": 141, \"speed\": 5.0}, {\"time step\": 142, \"speed\": 5.0}, {\"time step\": 143, \"speed\": 5.0}, {\"time step\": 144, \"speed\": 5.0}, {\"time step\": 145, \"speed\": 5.0}, {\"time step\": 146, \"speed\": 5.0}, {\"time step\": 147, \"speed\": 5.0}, {\"time step\": 148, \"speed\": 5.0}, {\"time step\": 149, \"speed\": 5.0}, {\"time step\": 150, \"speed\": 5.0}, {\"time step\": 151, \"speed\": 5.0}, {\"time step\": 152, \"speed\": 5.0}, {\"time step\": 153, \"speed\": 5.0}, {\"time step\": 154, \"speed\": 5.0}, {\"time step\": 155, \"speed\": 5.0}, {\"time step\": 156, \"speed\": 5.0}, {\"time step\": 157, \"speed\": 5.0}, {\"time step\": 158, \"speed\": 5.0}, {\"time step\": 159, \"speed\": 5.0}, {\"time step\": 160, \"speed\": 5.0}, {\"time step\": 161, \"speed\": 5.0}, {\"time step\": 162, \"speed\": 5.0}, {\"time step\": 163, \"speed\": 5.0}, {\"time step\": 164, \"speed\": 5.0}, {\"time step\": 165, \"speed\": 5.0}, {\"time step\": 166, \"speed\": 5.0}, {\"time step\": 167, \"speed\": 5.0}, {\"time step\": 168, \"speed\": 5.0}, {\"time step\": 169, \"speed\": 5.0}, {\"time step\": 170, \"speed\": 5.0}, {\"time step\": 171, \"speed\": 5.0}, {\"time step\": 172, \"speed\": 5.0}, {\"time step\": 173, \"speed\": 5.0}, {\"time step\": 174, \"speed\": 5.0}, {\"time step\": 175, \"speed\": 5.0}, {\"time step\": 176, \"speed\": 5.0}, {\"time step\": 177, \"speed\": 5.0}, {\"time step\": 178, \"speed\": 5.0}, {\"time step\": 179, \"speed\": 5.0}, {\"time step\": 180, \"speed\": 5.0}, {\"time step\": 181, \"speed\": 5.0}, {\"time step\": 182, \"speed\": 5.0}, {\"time step\": 183, \"speed\": 5.0}, {\"time step\": 184, \"speed\": 5.0}, {\"time step\": 185, \"speed\": 5.0}, {\"time step\": 186, \"speed\": 5.0}, {\"time step\": 187, \"speed\": 5.0}, {\"time step\": 188, \"speed\": 5.0}, {\"time step\": 189, \"speed\": 5.0}, {\"time step\": 190, \"speed\": 5.0}, {\"time step\": 191, \"speed\": 5.0}, {\"time step\": 192, \"speed\": 5.0}, {\"time step\": 193, \"speed\": 5.0}, {\"time step\": 194, \"speed\": 5.0}, {\"time step\": 195, \"speed\": 5.0}, {\"time step\": 196, \"speed\": 5.0}, {\"time step\": 197, \"speed\": 5.0}, {\"time step\": 198, \"speed\": 5.0}, {\"time step\": 199, \"speed\": 5.0}, {\"time step\": 200, \"speed\": 5.0}, {\"time step\": 201, \"speed\": 5.0}, {\"time step\": 202, \"speed\": 5.0}, {\"time step\": 203, \"speed\": 5.0}, {\"time step\": 204, \"speed\": 5.0}, {\"time step\": 205, \"speed\": 5.0}, {\"time step\": 206, \"speed\": 5.0}, {\"time step\": 207, \"speed\": 5.0}, {\"time step\": 208, \"speed\": 5.0}, {\"time step\": 209, \"speed\": 5.0}, {\"time step\": 210, \"speed\": 5.0}, {\"time step\": 211, \"speed\": 5.0}, {\"time step\": 212, \"speed\": 5.0}, {\"time step\": 213, \"speed\": 5.0}, {\"time step\": 214, \"speed\": 5.0}, {\"time step\": 215, \"speed\": 5.0}, {\"time step\": 216, \"speed\": 5.0}, {\"time step\": 217, \"speed\": 5.0}, {\"time step\": 218, \"speed\": 5.0}, {\"time step\": 219, \"speed\": 5.0}, {\"time step\": 220, \"speed\": 5.0}, {\"time step\": 221, \"speed\": 5.0}, {\"time step\": 222, \"speed\": 5.0}, {\"time step\": 223, \"speed\": 5.0}, {\"time step\": 224, \"speed\": 5.0}, {\"time step\": 225, \"speed\": 5.0}, {\"time step\": 226, \"speed\": 5.0}, {\"time step\": 227, \"speed\": 5.0}, {\"time step\": 228, \"speed\": 5.0}, {\"time step\": 229, \"speed\": 5.0}, {\"time step\": 230, \"speed\": 5.0}, {\"time step\": 231, \"speed\": 5.0}, {\"time step\": 232, \"speed\": 5.0}, {\"time step\": 233, \"speed\": 5.0}, {\"time step\": 234, \"speed\": 5.0}, {\"time step\": 235, \"speed\": 5.0}, {\"time step\": 236, \"speed\": 5.0}, {\"time step\": 237, \"speed\": 5.0}, {\"time step\": 238, \"speed\": 5.0}, {\"time step\": 239, \"speed\": 5.0}, {\"time step\": 240, \"speed\": 5.0}, {\"time step\": 241, \"speed\": 5.0}, {\"time step\": 242, \"speed\": 5.0}, {\"time step\": 243, \"speed\": 5.0}, {\"time step\": 244, \"speed\": 5.0}, {\"time step\": 245, \"speed\": 5.0}, {\"time step\": 246, \"speed\": 5.0}, {\"time step\": 247, \"speed\": 5.0}, {\"time step\": 248, \"speed\": 5.0}, {\"time step\": 249, \"speed\": 5.0}, {\"time step\": 250, \"speed\": 5.0}, {\"time step\": 251, \"speed\": 5.0}, {\"time step\": 252, \"speed\": 5.0}, {\"time step\": 253, \"speed\": 5.0}, {\"time step\": 254, \"speed\": 5.0}, {\"time step\": 255, \"speed\": 5.0}, {\"time step\": 256, \"speed\": 5.0}, {\"time step\": 257, \"speed\": 5.0}, {\"time step\": 258, \"speed\": 5.0}, {\"time step\": 259, \"speed\": 5.0}, {\"time step\": 260, \"speed\": 5.0}, {\"time step\": 261, \"speed\": 5.0}, {\"time step\": 262, \"speed\": 5.0}, {\"time step\": 263, \"speed\": 5.0}, {\"time step\": 264, \"speed\": 5.0}, {\"time step\": 265, \"speed\": 5.0}, {\"time step\": 266, \"speed\": 5.0}, {\"time step\": 267, \"speed\": 5.0}, {\"time step\": 268, \"speed\": 5.0}, {\"time step\": 269, \"speed\": 5.0}, {\"time step\": 270, \"speed\": 5.0}, {\"time step\": 271, \"speed\": 5.0}, {\"time step\": 272, \"speed\": 5.0}, {\"time step\": 273, \"speed\": 5.0}, {\"time step\": 274, \"speed\": 5.0}, {\"time step\": 275, \"speed\": 5.0}, {\"time step\": 276, \"speed\": 5.0}, {\"time step\": 277, \"speed\": 5.0}, {\"time step\": 278, \"speed\": 5.0}, {\"time step\": 279, \"speed\": 5.0}, {\"time step\": 280, \"speed\": 5.0}, {\"time step\": 281, \"speed\": 5.0}, {\"time step\": 282, \"speed\": 5.0}, {\"time step\": 283, \"speed\": 5.0}, {\"time step\": 284, \"speed\": 5.0}, {\"time step\": 285, \"speed\": 5.0}, {\"time step\": 286, \"speed\": 5.0}, {\"time step\": 287, \"speed\": 5.0}, {\"time step\": 288, \"speed\": 5.0}, {\"time step\": 289, \"speed\": 5.0}, {\"time step\": 290, \"speed\": 5.0}, {\"time step\": 291, \"speed\": 5.0}, {\"time step\": 292, \"speed\": 5.0}, {\"time step\": 293, \"speed\": 5.0}, {\"time step\": 294, \"speed\": 5.0}, {\"time step\": 295, \"speed\": 5.0}, {\"time step\": 296, \"speed\": 5.0}, {\"time step\": 297, \"speed\": 5.0}, {\"time step\": 298, \"speed\": 5.0}, {\"time step\": 299, \"speed\": 5.0}, {\"time step\": 300, \"speed\": 5.0}, {\"time step\": 301, \"speed\": 5.0}, {\"time step\": 302, \"speed\": 5.0}, {\"time step\": 303, \"speed\": 5.0}, {\"time step\": 304, \"speed\": 5.0}, {\"time step\": 305, \"speed\": 5.0}, {\"time step\": 306, \"speed\": 5.0}, {\"time step\": 307, \"speed\": 5.0}, {\"time step\": 308, \"speed\": 5.0}, {\"time step\": 309, \"speed\": 5.0}, {\"time step\": 310, \"speed\": 5.0}, {\"time step\": 311, \"speed\": 5.0}, {\"time step\": 312, \"speed\": 5.0}, {\"time step\": 313, \"speed\": 5.0}, {\"time step\": 314, \"speed\": 5.0}, {\"time step\": 315, \"speed\": 0.0}, {\"time step\": 316, \"speed\": 5.0}, {\"time step\": 317, \"speed\": 10.0}, {\"time step\": 318, \"speed\": 15.0}, {\"time step\": 319, \"speed\": 20.0}, {\"time step\": 320, \"speed\": 25.0}, {\"time step\": 321, \"speed\": 30.0}, {\"time step\": 322, \"speed\": 35.0}, {\"time step\": 323, \"speed\": 40.0}, {\"time step\": 324, \"speed\": 45.0}, {\"time step\": 325, \"speed\": 50.0}, {\"time step\": 326, \"speed\": 55.0}, {\"time step\": 327, \"speed\": 60.0}, {\"time step\": 328, \"speed\": 65.0}, {\"time step\": 329, \"speed\": 70.0}, {\"time step\": 330, \"speed\": 75.0}, {\"time step\": 331, \"speed\": 80.0}, {\"time step\": 332, \"speed\": 85.0}, {\"time step\": 333, \"speed\": 90.0}, {\"time step\": 334, \"speed\": 95.0}, {\"time step\": 335, \"speed\": 100.0}, {\"time step\": 336, \"speed\": 100.0}, {\"time step\": 337, \"speed\": 100.0}, {\"time step\": 338, \"speed\": 100.0}, {\"time step\": 339, \"speed\": 100.0}, {\"time step\": 340, \"speed\": 100.0}, {\"time step\": 341, \"speed\": 100.0}, {\"time step\": 342, \"speed\": 100.0}, {\"time step\": 343, \"speed\": 100.0}, {\"time step\": 344, \"speed\": 100.0}, {\"time step\": 345, \"speed\": 100.0}, {\"time step\": 346, \"speed\": 100.0}, {\"time step\": 347, \"speed\": 100.0}, {\"time step\": 348, \"speed\": 100.0}, {\"time step\": 349, \"speed\": 100.0}, {\"time step\": 350, \"speed\": 100.0}, {\"time step\": 351, \"speed\": 100.0}, {\"time step\": 352, \"speed\": 100.0}, {\"time step\": 353, \"speed\": 100.0}, {\"time step\": 354, \"speed\": 100.0}, {\"time step\": 355, \"speed\": 100.0}, {\"time step\": 356, \"speed\": 100.0}, {\"time step\": 357, \"speed\": 100.0}, {\"time step\": 358, \"speed\": 100.0}, {\"time step\": 359, \"speed\": 100.0}, {\"time step\": 360, \"speed\": 100.0}, {\"time step\": 361, \"speed\": 100.0}, {\"time step\": 362, \"speed\": 100.0}, {\"time step\": 363, \"speed\": 100.0}, {\"time step\": 364, \"speed\": 100.0}, {\"time step\": 365, \"speed\": 100.0}, {\"time step\": 366, \"speed\": 100.0}, {\"time step\": 367, \"speed\": 100.0}, {\"time step\": 368, \"speed\": 100.0}, {\"time step\": 369, \"speed\": 100.0}, {\"time step\": 370, \"speed\": 100.0}, {\"time step\": 371, \"speed\": 100.0}, {\"time step\": 372, \"speed\": 100.0}, {\"time step\": 373, \"speed\": 100.0}, {\"time step\": 374, \"speed\": 100.0}, {\"time step\": 375, \"speed\": 95.0}, {\"time step\": 376, \"speed\": 90.0}, {\"time step\": 377, \"speed\": 85.0}, {\"time step\": 378, \"speed\": 80.0}, {\"time step\": 379, \"speed\": 75.0}, {\"time step\": 380, \"speed\": 70.0}, {\"time step\": 381, \"speed\": 65.0}, {\"time step\": 382, \"speed\": 60.0}, {\"time step\": 383, \"speed\": 55.0}, {\"time step\": 384, \"speed\": 50.0}, {\"time step\": 385, \"speed\": 45.0}, {\"time step\": 386, \"speed\": 40.0}, {\"time step\": 387, \"speed\": 35.0}, {\"time step\": 388, \"speed\": 30.0}, {\"time step\": 389, \"speed\": 25.0}, {\"time step\": 390, \"speed\": 20.0}, {\"time step\": 391, \"speed\": 15.0}, {\"time step\": 392, \"speed\": 10.0}, {\"time step\": 393, \"speed\": 5.0}, {\"time step\": 394, \"speed\": 0.0}, {\"time step\": 395, \"speed\": 0.0}, {\"time step\": 396, \"speed\": 5.0}, {\"time step\": 397, \"speed\": 10.0}, {\"time step\": 398, \"speed\": 15.0}, {\"time step\": 399, \"speed\": 20.0}, {\"time step\": 400, \"speed\": 25.0}, {\"time step\": 401, \"speed\": 30.0}, {\"time step\": 402, \"speed\": 35.0}, {\"time step\": 403, \"speed\": 40.0}, {\"time step\": 404, \"speed\": 45.0}, {\"time step\": 405, \"speed\": 50.0}, {\"time step\": 406, \"speed\": 55.0}, {\"time step\": 407, \"speed\": 60.0}, {\"time step\": 408, \"speed\": 65.0}, {\"time step\": 409, \"speed\": 70.0}, {\"time step\": 410, \"speed\": 75.0}, {\"time step\": 411, \"speed\": 80.0}, {\"time step\": 412, \"speed\": 85.0}, {\"time step\": 413, \"speed\": 90.0}, {\"time step\": 414, \"speed\": 95.0}, {\"time step\": 415, \"speed\": 100.0}, {\"time step\": 416, \"speed\": 100.0}, {\"time step\": 417, \"speed\": 100.0}, {\"time step\": 418, \"speed\": 100.0}, {\"time step\": 419, \"speed\": 100.0}, {\"time step\": 420, \"speed\": 100.0}, {\"time step\": 421, \"speed\": 100.0}, {\"time step\": 422, \"speed\": 100.0}, {\"time step\": 423, \"speed\": 100.0}, {\"time step\": 424, \"speed\": 100.0}, {\"time step\": 425, \"speed\": 100.0}, {\"time step\": 426, \"speed\": 100.0}, {\"time step\": 427, \"speed\": 100.0}, {\"time step\": 428, \"speed\": 100.0}, {\"time step\": 429, \"speed\": 100.0}, {\"time step\": 430, \"speed\": 100.0}, {\"time step\": 431, \"speed\": 100.0}, {\"time step\": 432, \"speed\": 100.0}, {\"time step\": 433, \"speed\": 100.0}, {\"time step\": 434, \"speed\": 100.0}, {\"time step\": 435, \"speed\": 100.0}, {\"time step\": 436, \"speed\": 100.0}, {\"time step\": 437, \"speed\": 100.0}, {\"time step\": 438, \"speed\": 100.0}, {\"time step\": 439, \"speed\": 100.0}, {\"time step\": 440, \"speed\": 100.0}, {\"time step\": 441, \"speed\": 100.0}, {\"time step\": 442, \"speed\": 100.0}, {\"time step\": 443, \"speed\": 100.0}, {\"time step\": 444, \"speed\": 100.0}, {\"time step\": 445, \"speed\": 95.0}, {\"time step\": 446, \"speed\": 90.0}, {\"time step\": 447, \"speed\": 85.0}, {\"time step\": 448, \"speed\": 80.0}, {\"time step\": 449, \"speed\": 75.0}, {\"time step\": 450, \"speed\": 70.0}, {\"time step\": 451, \"speed\": 65.0}, {\"time step\": 452, \"speed\": 60.0}, {\"time step\": 453, \"speed\": 55.0}, {\"time step\": 454, \"speed\": 50.0}, {\"time step\": 455, \"speed\": 45.0}, {\"time step\": 456, \"speed\": 40.0}, {\"time step\": 457, \"speed\": 35.0}, {\"time step\": 458, \"speed\": 30.0}, {\"time step\": 459, \"speed\": 25.0}, {\"time step\": 460, \"speed\": 20.0}, {\"time step\": 461, \"speed\": 15.0}, {\"time step\": 462, \"speed\": 10.0}, {\"time step\": 463, \"speed\": 5.0}, {\"time step\": 464, \"speed\": 0.0}, {\"time step\": 465, \"speed\": 0.0}, {\"time step\": 466, \"speed\": 5.0}, {\"time step\": 467, \"speed\": 10.0}, {\"time step\": 468, \"speed\": 15.0}, {\"time step\": 469, \"speed\": 20.0}, {\"time step\": 470, \"speed\": 25.0}, {\"time step\": 471, \"speed\": 30.0}, {\"time step\": 472, \"speed\": 35.0}, {\"time step\": 473, \"speed\": 40.0}, {\"time step\": 474, \"speed\": 45.0}, {\"time step\": 475, \"speed\": 50.0}, {\"time step\": 476, \"speed\": 55.0}, {\"time step\": 477, \"speed\": 60.0}, {\"time step\": 478, \"speed\": 65.0}, {\"time step\": 479, \"speed\": 70.0}, {\"time step\": 480, \"speed\": 75.0}, {\"time step\": 481, \"speed\": 75.0}, {\"time step\": 482, \"speed\": 70.0}, {\"time step\": 483, \"speed\": 65.0}, {\"time step\": 484, \"speed\": 60.0}, {\"time step\": 485, \"speed\": 55.0}, {\"time step\": 486, \"speed\": 50.0}, {\"time step\": 487, \"speed\": 45.0}, {\"time step\": 488, \"speed\": 40.0}, {\"time step\": 489, \"speed\": 35.0}, {\"time step\": 490, \"speed\": 30.0}, {\"time step\": 491, \"speed\": 25.0}, {\"time step\": 492, \"speed\": 20.0}, {\"time step\": 493, \"speed\": 15.0}, {\"time step\": 494, \"speed\": 10.0}, {\"time step\": 495, \"speed\": 5.0}, {\"time step\": 496, \"speed\": 0.0}, {\"time step\": 497, \"speed\": 0.0}, {\"time step\": 498, \"speed\": 5.0}, {\"time step\": 499, \"speed\": 10.0}, {\"time step\": 500, \"speed\": 15.0}, {\"time step\": 501, \"speed\": 20.0}, {\"time step\": 502, \"speed\": 25.0}, {\"time step\": 503, \"speed\": 30.0}, {\"time step\": 504, \"speed\": 35.0}, {\"time step\": 505, \"speed\": 40.0}, {\"time step\": 506, \"speed\": 45.0}, {\"time step\": 507, \"speed\": 50.0}, {\"time step\": 508, \"speed\": 55.0}, {\"time step\": 509, \"speed\": 60.0}, {\"time step\": 510, \"speed\": 65.0}, {\"time step\": 511, \"speed\": 70.0}, {\"time step\": 512, \"speed\": 75.0}, {\"time step\": 513, \"speed\": 80.0}, {\"time step\": 514, \"speed\": 85.0}, {\"time step\": 515, \"speed\": 90.0}, {\"time step\": 516, \"speed\": 95.0}, {\"time step\": 517, \"speed\": 100.0}, {\"time step\": 518, \"speed\": 100.0}, {\"time step\": 519, \"speed\": 100.0}, {\"time step\": 520, \"speed\": 100.0}, {\"time step\": 521, \"speed\": 100.0}, {\"time step\": 522, \"speed\": 100.0}, {\"time step\": 523, \"speed\": 100.0}, {\"time step\": 524, \"speed\": 100.0}, {\"time step\": 525, \"speed\": 95.0}, {\"time step\": 526, \"speed\": 90.0}, {\"time step\": 527, \"speed\": 85.0}, {\"time step\": 528, \"speed\": 80.0}, {\"time step\": 529, \"speed\": 75.0}, {\"time step\": 530, \"speed\": 70.0}, {\"time step\": 531, \"speed\": 65.0}, {\"time step\": 532, \"speed\": 60.0}, {\"time step\": 533, \"speed\": 55.0}, {\"time step\": 534, \"speed\": 50.0}, {\"time step\": 535, \"speed\": 45.0}, {\"time step\": 536, \"speed\": 40.0}, {\"time step\": 537, \"speed\": 35.0}, {\"time step\": 538, \"speed\": 30.0}, {\"time step\": 539, \"speed\": 25.0}, {\"time step\": 540, \"speed\": 20.0}, {\"time step\": 541, \"speed\": 15.0}, {\"time step\": 542, \"speed\": 10.0}, {\"time step\": 543, \"speed\": 5.0}, {\"time step\": 544, \"speed\": 0.0}, {\"time step\": 545, \"speed\": 0.0}, {\"time step\": 546, \"speed\": 5.0}, {\"time step\": 547, \"speed\": 10.0}, {\"time step\": 548, \"speed\": 15.0}, {\"time step\": 549, \"speed\": 20.0}, {\"time step\": 550, \"speed\": 25.0}, {\"time step\": 551, \"speed\": 30.0}, {\"time step\": 552, \"speed\": 35.0}, {\"time step\": 553, \"speed\": 40.0}, {\"time step\": 554, \"speed\": 45.0}, {\"time step\": 555, \"speed\": 50.0}, {\"time step\": 556, \"speed\": 55.0}, {\"time step\": 557, \"speed\": 60.0}, {\"time step\": 558, \"speed\": 65.0}, {\"time step\": 559, \"speed\": 70.0}, {\"time step\": 560, \"speed\": 75.0}, {\"time step\": 561, \"speed\": 80.0}, {\"time step\": 562, \"speed\": 85.0}, {\"time step\": 563, \"speed\": 90.0}, {\"time step\": 564, \"speed\": 95.0}, {\"time step\": 565, \"speed\": 100.0}, {\"time step\": 566, \"speed\": 100.0}, {\"time step\": 567, \"speed\": 100.0}, {\"time step\": 568, \"speed\": 100.0}, {\"time step\": 569, \"speed\": 100.0}, {\"time step\": 570, \"speed\": 100.0}, {\"time step\": 571, \"speed\": 100.0}, {\"time step\": 572, \"speed\": 100.0}, {\"time step\": 573, \"speed\": 100.0}, {\"time step\": 574, \"speed\": 100.0}, {\"time step\": 575, \"speed\": 100.0}, {\"time step\": 576, \"speed\": 100.0}, {\"time step\": 577, \"speed\": 100.0}, {\"time step\": 578, \"speed\": 100.0}, {\"time step\": 579, \"speed\": 100.0}, {\"time step\": 580, \"speed\": 100.0}, {\"time step\": 581, \"speed\": 100.0}, {\"time step\": 582, \"speed\": 100.0}, {\"time step\": 583, \"speed\": 100.0}, {\"time step\": 584, \"speed\": 100.0}, {\"time step\": 585, \"speed\": 100.0}, {\"time step\": 586, \"speed\": 100.0}, {\"time step\": 587, \"speed\": 100.0}, {\"time step\": 588, \"speed\": 100.0}, {\"time step\": 589, \"speed\": 100.0}, {\"time step\": 590, \"speed\": 100.0}, {\"time step\": 591, \"speed\": 95.0}, {\"time step\": 592, \"speed\": 90.0}, {\"time step\": 593, \"speed\": 85.0}, {\"time step\": 594, \"speed\": 80.0}, {\"time step\": 595, \"speed\": 75.0}, {\"time step\": 596, \"speed\": 70.0}, {\"time step\": 597, \"speed\": 65.0}, {\"time step\": 598, \"speed\": 60.0}, {\"time step\": 599, \"speed\": 55.0}, {\"time step\": 600, \"speed\": 50.0}, {\"time step\": 601, \"speed\": 45.0}, {\"time step\": 602, \"speed\": 40.0}, {\"time step\": 603, \"speed\": 35.0}, {\"time step\": 604, \"speed\": 30.0}, {\"time step\": 605, \"speed\": 25.0}, {\"time step\": 606, \"speed\": 20.0}, {\"time step\": 607, \"speed\": 15.0}, {\"time step\": 608, \"speed\": 10.0}, {\"time step\": 609, \"speed\": 5.0}, {\"time step\": 610, \"speed\": 0.0}, {\"time step\": 611, \"speed\": 0.0}, {\"time step\": 612, \"speed\": 5.0}, {\"time step\": 613, \"speed\": 10.0}, {\"time step\": 614, \"speed\": 15.0}, {\"time step\": 615, \"speed\": 20.0}, {\"time step\": 616, \"speed\": 25.0}, {\"time step\": 617, \"speed\": 30.0}, {\"time step\": 618, \"speed\": 35.0}, {\"time step\": 619, \"speed\": 40.0}, {\"time step\": 620, \"speed\": 45.0}, {\"time step\": 621, \"speed\": 50.0}, {\"time step\": 622, \"speed\": 55.0}, {\"time step\": 623, \"speed\": 60.0}, {\"time step\": 624, \"speed\": 65.0}, {\"time step\": 625, \"speed\": 70.0}, {\"time step\": 626, \"speed\": 75.0}, {\"time step\": 627, \"speed\": 80.0}, {\"time step\": 628, \"speed\": 85.0}, {\"time step\": 629, \"speed\": 90.0}, {\"time step\": 630, \"speed\": 95.0}, {\"time step\": 631, \"speed\": 100.0}, {\"time step\": 632, \"speed\": 100.0}, {\"time step\": 633, \"speed\": 100.0}, {\"time step\": 634, \"speed\": 100.0}, {\"time step\": 635, \"speed\": 100.0}, {\"time step\": 636, \"speed\": 100.0}, {\"time step\": 637, \"speed\": 100.0}, {\"time step\": 638, \"speed\": 100.0}, {\"time step\": 639, \"speed\": 100.0}, {\"time step\": 640, \"speed\": 100.0}, {\"time step\": 641, \"speed\": 100.0}, {\"time step\": 642, \"speed\": 100.0}, {\"time step\": 643, \"speed\": 100.0}, {\"time step\": 644, \"speed\": 100.0}, {\"time step\": 645, \"speed\": 100.0}, {\"time step\": 646, \"speed\": 100.0}, {\"time step\": 647, \"speed\": 100.0}, {\"time step\": 648, \"speed\": 100.0}, {\"time step\": 649, \"speed\": 100.0}, {\"time step\": 650, \"speed\": 100.0}, {\"time step\": 651, \"speed\": 100.0}, {\"time step\": 652, \"speed\": 100.0}, {\"time step\": 653, \"speed\": 100.0}, {\"time step\": 654, \"speed\": 100.0}, {\"time step\": 655, \"speed\": 100.0}, {\"time step\": 656, \"speed\": 100.0}, {\"time step\": 657, \"speed\": 100.0}, {\"time step\": 658, \"speed\": 100.0}, {\"time step\": 659, \"speed\": 100.0}, {\"time step\": 660, \"speed\": 100.0}, {\"time step\": 661, \"speed\": 100.0}, {\"time step\": 662, \"speed\": 100.0}, {\"time step\": 663, \"speed\": 100.0}, {\"time step\": 664, \"speed\": 100.0}, {\"time step\": 665, \"speed\": 100.0}, {\"time step\": 666, \"speed\": 100.0}, {\"time step\": 667, \"speed\": 95.0}, {\"time step\": 668, \"speed\": 90.0}, {\"time step\": 669, \"speed\": 85.0}, {\"time step\": 670, \"speed\": 80.0}, {\"time step\": 671, \"speed\": 75.0}, {\"time step\": 672, \"speed\": 70.0}, {\"time step\": 673, \"speed\": 65.0}, {\"time step\": 674, \"speed\": 60.0}, {\"time step\": 675, \"speed\": 55.0}, {\"time step\": 676, \"speed\": 50.0}, {\"time step\": 677, \"speed\": 45.0}, {\"time step\": 678, \"speed\": 40.0}, {\"time step\": 679, \"speed\": 35.0}, {\"time step\": 680, \"speed\": 30.0}, {\"time step\": 681, \"speed\": 25.0}, {\"time step\": 682, \"speed\": 20.0}, {\"time step\": 683, \"speed\": 15.0}, {\"time step\": 684, \"speed\": 10.0}, {\"time step\": 685, \"speed\": 5.0}, {\"time step\": 686, \"speed\": 0.0}, {\"time step\": 687, \"speed\": 5.0}, {\"time step\": 688, \"speed\": 5.0}, {\"time step\": 689, \"speed\": 5.0}, {\"time step\": 690, \"speed\": 5.0}, {\"time step\": 691, \"speed\": 5.0}, {\"time step\": 692, \"speed\": 5.0}, {\"time step\": 693, \"speed\": 5.0}, {\"time step\": 694, \"speed\": 5.0}, {\"time step\": 695, \"speed\": 5.0}, {\"time step\": 696, \"speed\": 5.0}, {\"time step\": 697, \"speed\": 5.0}, {\"time step\": 698, \"speed\": 5.0}, {\"time step\": 699, \"speed\": 5.0}, {\"time step\": 700, \"speed\": 5.0}, {\"time step\": 701, \"speed\": 5.0}, {\"time step\": 702, \"speed\": 5.0}, {\"time step\": 703, \"speed\": 5.0}, {\"time step\": 704, \"speed\": 5.0}, {\"time step\": 705, \"speed\": 5.0}, {\"time step\": 706, \"speed\": 5.0}, {\"time step\": 707, \"speed\": 5.0}, {\"time step\": 708, \"speed\": 5.0}, {\"time step\": 709, \"speed\": 5.0}, {\"time step\": 710, \"speed\": 5.0}, {\"time step\": 711, \"speed\": 5.0}, {\"time step\": 712, \"speed\": 5.0}, {\"time step\": 713, \"speed\": 5.0}, {\"time step\": 714, \"speed\": 5.0}, {\"time step\": 715, \"speed\": 5.0}, {\"time step\": 716, \"speed\": 5.0}, {\"time step\": 717, \"speed\": 5.0}, {\"time step\": 718, \"speed\": 5.0}, {\"time step\": 719, \"speed\": 5.0}, {\"time step\": 720, \"speed\": 5.0}, {\"time step\": 721, \"speed\": 5.0}, {\"time step\": 722, \"speed\": 5.0}, {\"time step\": 723, \"speed\": 5.0}, {\"time step\": 724, \"speed\": 5.0}, {\"time step\": 725, \"speed\": 5.0}, {\"time step\": 726, \"speed\": 5.0}, {\"time step\": 727, \"speed\": 5.0}, {\"time step\": 728, \"speed\": 5.0}, {\"time step\": 729, \"speed\": 5.0}, {\"time step\": 730, \"speed\": 5.0}, {\"time step\": 731, \"speed\": 5.0}, {\"time step\": 732, \"speed\": 5.0}, {\"time step\": 733, \"speed\": 5.0}, {\"time step\": 734, \"speed\": 5.0}, {\"time step\": 735, \"speed\": 5.0}, {\"time step\": 736, \"speed\": 5.0}, {\"time step\": 737, \"speed\": 5.0}, {\"time step\": 738, \"speed\": 5.0}, {\"time step\": 739, \"speed\": 5.0}, {\"time step\": 740, \"speed\": 5.0}, {\"time step\": 741, \"speed\": 5.0}, {\"time step\": 742, \"speed\": 5.0}, {\"time step\": 743, \"speed\": 5.0}]}}, {\"mode\": \"vega-lite\"});\n",
       "</script>"
      ],
      "text/plain": [
       "alt.Chart(...)"
      ]
     },
     "execution_count": 2,
     "metadata": {},
     "output_type": "execute_result"
    }
   ],
   "source": [
    "sample = generate_sample()\n",
    "fig = sample.get_figure()\n",
    "fig.properties(title=\"Sample without outliers\", width=800)"
   ]
  },
  {
   "cell_type": "code",
   "execution_count": 22,
   "metadata": {},
   "outputs": [
    {
     "data": {
      "text/html": [
       "\n",
       "<div id=\"altair-viz-53e3fce43c394430a284435e0a0aafd4\"></div>\n",
       "<script type=\"text/javascript\">\n",
       "  (function(spec, embedOpt){\n",
       "    let outputDiv = document.currentScript.previousElementSibling;\n",
       "    if (outputDiv.id !== \"altair-viz-53e3fce43c394430a284435e0a0aafd4\") {\n",
       "      outputDiv = document.getElementById(\"altair-viz-53e3fce43c394430a284435e0a0aafd4\");\n",
       "    }\n",
       "    const paths = {\n",
       "      \"vega\": \"https://cdn.jsdelivr.net/npm//vega@5?noext\",\n",
       "      \"vega-lib\": \"https://cdn.jsdelivr.net/npm//vega-lib?noext\",\n",
       "      \"vega-lite\": \"https://cdn.jsdelivr.net/npm//vega-lite@4.8.1?noext\",\n",
       "      \"vega-embed\": \"https://cdn.jsdelivr.net/npm//vega-embed@6?noext\",\n",
       "    };\n",
       "\n",
       "    function loadScript(lib) {\n",
       "      return new Promise(function(resolve, reject) {\n",
       "        var s = document.createElement('script');\n",
       "        s.src = paths[lib];\n",
       "        s.async = true;\n",
       "        s.onload = () => resolve(paths[lib]);\n",
       "        s.onerror = () => reject(`Error loading script: ${paths[lib]}`);\n",
       "        document.getElementsByTagName(\"head\")[0].appendChild(s);\n",
       "      });\n",
       "    }\n",
       "\n",
       "    function showError(err) {\n",
       "      outputDiv.innerHTML = `<div class=\"error\" style=\"color:red;\">${err}</div>`;\n",
       "      throw err;\n",
       "    }\n",
       "\n",
       "    function displayChart(vegaEmbed) {\n",
       "      vegaEmbed(outputDiv, spec, embedOpt)\n",
       "        .catch(err => showError(`Javascript Error: ${err.message}<br>This usually means there's a typo in your chart specification. See the javascript console for the full traceback.`));\n",
       "    }\n",
       "\n",
       "    if(typeof define === \"function\" && define.amd) {\n",
       "      requirejs.config({paths});\n",
       "      require([\"vega-embed\"], displayChart, err => showError(`Error loading script: ${err.message}`));\n",
       "    } else if (typeof vegaEmbed === \"function\") {\n",
       "      displayChart(vegaEmbed);\n",
       "    } else {\n",
       "      loadScript(\"vega\")\n",
       "        .then(() => loadScript(\"vega-lite\"))\n",
       "        .then(() => loadScript(\"vega-embed\"))\n",
       "        .catch(showError)\n",
       "        .then(() => displayChart(vegaEmbed));\n",
       "    }\n",
       "  })({\"config\": {\"view\": {\"continuousWidth\": 400, \"continuousHeight\": 300}}, \"data\": {\"name\": \"data-ffdd1bbcafaab8d1d77bd6ed0ea52126\"}, \"mark\": \"bar\", \"encoding\": {\"x\": {\"type\": \"quantitative\", \"bin\": true, \"field\": \"# of timesteps\"}, \"y\": {\"type\": \"quantitative\", \"aggregate\": \"count\"}}, \"$schema\": \"https://vega.github.io/schema/vega-lite/v4.8.1.json\", \"datasets\": {\"data-ffdd1bbcafaab8d1d77bd6ed0ea52126\": [{\"# of timesteps\": 936}, {\"# of timesteps\": 792}, {\"# of timesteps\": 476}, {\"# of timesteps\": 1108}, {\"# of timesteps\": 792}, {\"# of timesteps\": 724}, {\"# of timesteps\": 344}, {\"# of timesteps\": 704}, {\"# of timesteps\": 256}, {\"# of timesteps\": 488}, {\"# of timesteps\": 872}, {\"# of timesteps\": 1220}, {\"# of timesteps\": 664}, {\"# of timesteps\": 896}, {\"# of timesteps\": 816}, {\"# of timesteps\": 772}, {\"# of timesteps\": 780}, {\"# of timesteps\": 536}, {\"# of timesteps\": 816}, {\"# of timesteps\": 360}, {\"# of timesteps\": 600}, {\"# of timesteps\": 876}, {\"# of timesteps\": 764}, {\"# of timesteps\": 808}, {\"# of timesteps\": 716}, {\"# of timesteps\": 772}, {\"# of timesteps\": 1144}, {\"# of timesteps\": 572}, {\"# of timesteps\": 924}, {\"# of timesteps\": 1212}, {\"# of timesteps\": 648}, {\"# of timesteps\": 692}, {\"# of timesteps\": 920}, {\"# of timesteps\": 728}, {\"# of timesteps\": 568}, {\"# of timesteps\": 608}, {\"# of timesteps\": 520}, {\"# of timesteps\": 436}, {\"# of timesteps\": 832}, {\"# of timesteps\": 972}, {\"# of timesteps\": 400}, {\"# of timesteps\": 932}, {\"# of timesteps\": 1240}, {\"# of timesteps\": 816}, {\"# of timesteps\": 1008}, {\"# of timesteps\": 552}, {\"# of timesteps\": 416}, {\"# of timesteps\": 1176}, {\"# of timesteps\": 408}, {\"# of timesteps\": 408}, {\"# of timesteps\": 920}, {\"# of timesteps\": 908}, {\"# of timesteps\": 848}, {\"# of timesteps\": 1148}, {\"# of timesteps\": 876}, {\"# of timesteps\": 896}, {\"# of timesteps\": 712}, {\"# of timesteps\": 368}, {\"# of timesteps\": 352}, {\"# of timesteps\": 652}, {\"# of timesteps\": 732}, {\"# of timesteps\": 616}, {\"# of timesteps\": 480}, {\"# of timesteps\": 696}, {\"# of timesteps\": 920}, {\"# of timesteps\": 852}, {\"# of timesteps\": 884}, {\"# of timesteps\": 888}, {\"# of timesteps\": 908}, {\"# of timesteps\": 1040}, {\"# of timesteps\": 908}, {\"# of timesteps\": 1208}, {\"# of timesteps\": 528}, {\"# of timesteps\": 744}, {\"# of timesteps\": 1212}, {\"# of timesteps\": 536}, {\"# of timesteps\": 948}, {\"# of timesteps\": 1044}, {\"# of timesteps\": 372}, {\"# of timesteps\": 1028}, {\"# of timesteps\": 444}, {\"# of timesteps\": 488}, {\"# of timesteps\": 868}, {\"# of timesteps\": 312}, {\"# of timesteps\": 540}, {\"# of timesteps\": 824}, {\"# of timesteps\": 864}, {\"# of timesteps\": 788}, {\"# of timesteps\": 540}, {\"# of timesteps\": 740}, {\"# of timesteps\": 996}, {\"# of timesteps\": 540}, {\"# of timesteps\": 616}, {\"# of timesteps\": 676}, {\"# of timesteps\": 1176}, {\"# of timesteps\": 596}, {\"# of timesteps\": 576}, {\"# of timesteps\": 620}, {\"# of timesteps\": 788}, {\"# of timesteps\": 1160}]}}, {\"mode\": \"vega-lite\"});\n",
       "</script>"
      ],
      "text/plain": [
       "alt.Chart(...)"
      ]
     },
     "execution_count": 22,
     "metadata": {},
     "output_type": "execute_result"
    }
   ],
   "source": [
    "dataset = Dataset.generate(train_outlier_prob=0, n_samples=100)\n",
    "sample_size_df = pd.DataFrame([len(s) for s in dataset.samples], columns=['# of timesteps'])\n",
    "alt.Chart(sample_size_df).mark_bar().encode(\n",
    "    alt.X(\"# of timesteps:Q\", bin=True),\n",
    "    y='count()',\n",
    ")"
   ]
  },
  {
   "cell_type": "markdown",
   "metadata": {},
   "source": [
    "1 train sub-segment is 20-100 timesteps (average 60), in total 4-10 train sub-segments (average 7). That makes around 350 train timesteps on average. Since we keep the walk at 50%, that makes 350 + 350 = 700 total timesteps on average. Since we have 2 random variables, the # of timesteps in our dataset follows triangular distribution (https://en.wikipedia.org/wiki/Irwin%E2%80%93Hall_distribution)"
   ]
  },
  {
   "cell_type": "markdown",
   "metadata": {},
   "source": [
    "If samples are of different length, our `to_tfds()` function will generate padded batches with a pad value of (-1, 0). -1 is for feature, and 0 is for label. Here is a sample batch in detail:"
   ]
  },
  {
   "cell_type": "code",
   "execution_count": 23,
   "metadata": {},
   "outputs": [],
   "source": [
    "for batch in dataset.to_tfds():\n",
    "    features, labels = batch\n",
    "    break"
   ]
  },
  {
   "cell_type": "code",
   "execution_count": 27,
   "metadata": {},
   "outputs": [
    {
     "name": "stdout",
     "output_type": "stream",
     "text": [
      "tf.Tensor(\n",
      "[[ 0.05]\n",
      " [ 0.05]\n",
      " [ 0.05]\n",
      " ...\n",
      " [-1.  ]\n",
      " [-1.  ]\n",
      " [-1.  ]], shape=(1220, 1), dtype=float32)\n",
      "tf.Tensor(\n",
      "[[1]\n",
      " [1]\n",
      " [1]\n",
      " ...\n",
      " [0]\n",
      " [0]\n",
      " [0]], shape=(1220, 1), dtype=int32)\n"
     ]
    }
   ],
   "source": [
    "print(features[0])\n",
    "print(labels[0])"
   ]
  },
  {
   "cell_type": "markdown",
   "metadata": {},
   "source": [
    "The last elements of the first feature vector were set to -1 and the total size is 1200 elements. This means that in this batch there is a sample with a maximum of 1200 unpadded features.\n",
    "\n",
    "Let's now train the same model we had before to see how it works:"
   ]
  },
  {
   "cell_type": "code",
   "execution_count": 28,
   "metadata": {},
   "outputs": [],
   "source": [
    "import tensorflow as tf\n",
    "\n",
    "lr_schedule = tf.keras.optimizers.schedules.ExponentialDecay(\n",
    "        0.1,\n",
    "        decay_steps=100,\n",
    "        decay_rate=0.1)\n",
    "\n",
    "rnn_model = tf.keras.Sequential(\n",
    "    [\n",
    "        tf.keras.layers.Masking(mask_value=np.array([-1])),\n",
    "        tf.keras.layers.GRU(8, return_sequences=True),\n",
    "        tf.keras.layers.Dense(1, activation=\"sigmoid\")\n",
    "    ]\n",
    ")\n",
    "rnn_model.compile(\n",
    "    loss=\"binary_crossentropy\",\n",
    "    optimizer=tf.keras.optimizers.RMSprop(learning_rate=lr_schedule),\n",
    "    metrics=[tf.keras.metrics.BinaryAccuracy()]\n",
    ")"
   ]
  },
  {
   "cell_type": "code",
   "execution_count": 29,
   "metadata": {},
   "outputs": [
    {
     "name": "stdout",
     "output_type": "stream",
     "text": [
      "Epoch 1/10\n",
      "5/5 [==============================] - 3s 581ms/step - loss: 0.4311 - binary_accuracy: 0.6457\n",
      "Epoch 2/10\n",
      "5/5 [==============================] - 3s 575ms/step - loss: 0.2030 - binary_accuracy: 0.7026\n",
      "Epoch 3/10\n",
      "5/5 [==============================] - 3s 573ms/step - loss: 0.0980 - binary_accuracy: 0.8049\n",
      "Epoch 4/10\n",
      "5/5 [==============================] - 3s 587ms/step - loss: 0.0616 - binary_accuracy: 0.8137\n",
      "Epoch 5/10\n",
      "5/5 [==============================] - 3s 574ms/step - loss: 0.0537 - binary_accuracy: 0.8158\n",
      "Epoch 6/10\n",
      "5/5 [==============================] - 3s 551ms/step - loss: 0.1121 - binary_accuracy: 0.8110\n",
      "Epoch 7/10\n",
      "5/5 [==============================] - 3s 551ms/step - loss: 0.0519 - binary_accuracy: 0.8154\n",
      "Epoch 8/10\n",
      "5/5 [==============================] - 3s 566ms/step - loss: 0.0466 - binary_accuracy: 0.8180\n",
      "Epoch 9/10\n",
      "5/5 [==============================] - 3s 558ms/step - loss: 0.0436 - binary_accuracy: 0.8186\n",
      "Epoch 10/10\n",
      "5/5 [==============================] - 3s 560ms/step - loss: 0.0412 - binary_accuracy: 0.8189\n"
     ]
    },
    {
     "data": {
      "text/plain": [
       "<tensorflow.python.keras.callbacks.History at 0x147dc2b50>"
      ]
     },
     "execution_count": 29,
     "metadata": {},
     "output_type": "execute_result"
    }
   ],
   "source": [
    "rnn_model.fit(\n",
    "    x=dataset.to_tfds(),\n",
    "    epochs=10,\n",
    ")"
   ]
  },
  {
   "cell_type": "markdown",
   "metadata": {},
   "source": [
    "Something is obviously wrong here, as our model quickly reaches ~80% accuracy and then saturates, when it should be close to 100%.\n",
    "\n",
    "Turns out the problem is not in the model, but in the way we specified metrics. We used a -1 padding with a 0 (train) label. Padded features are ignored during traning, and predictions on them are also irrelevant. But the metrics do not ignore those predictions.\n",
    "\n",
    "For each metric in tensorflow, it is written:\n",
    "> If sample_weight is None, weights default to 1. Use sample_weight of 0 to mask values.\n",
    "\n",
    "For example https://www.tensorflow.org/api_docs/python/tf/keras/metrics/BinaryAccuracy\n",
    "\n",
    "That also means that for `model.compile()` we need to use `weighted_metrics` argument instead of just `metrics`."
   ]
  },
  {
   "cell_type": "code",
   "execution_count": 53,
   "metadata": {},
   "outputs": [],
   "source": [
    "rnn_model = tf.keras.Sequential(\n",
    "    [\n",
    "        tf.keras.layers.Masking(mask_value=np.array([-1])),\n",
    "        tf.keras.layers.GRU(8, return_sequences=True),\n",
    "        tf.keras.layers.Dense(1, activation=\"sigmoid\")\n",
    "    ]\n",
    ")\n",
    "rnn_model.compile(\n",
    "    loss=\"binary_crossentropy\",\n",
    "    optimizer=tf.keras.optimizers.RMSprop(learning_rate=lr_schedule),\n",
    "    # CHANGED\n",
    "    weighted_metrics=[tf.keras.metrics.BinaryAccuracy()]\n",
    ")"
   ]
  },
  {
   "cell_type": "markdown",
   "metadata": {},
   "source": [
    "I have prepared a `dataset.to_weighted_tfds()` method which accepts class weights and assigned the weights accordingly:"
   ]
  },
  {
   "cell_type": "code",
   "execution_count": 54,
   "metadata": {},
   "outputs": [
    {
     "name": "stdout",
     "output_type": "stream",
     "text": [
      "Epoch 1/10\n",
      "5/5 [==============================] - 4s 740ms/step - loss: 0.2700 - binary_accuracy: 0.6292\n",
      "Epoch 2/10\n",
      "5/5 [==============================] - 3s 696ms/step - loss: 0.1203 - binary_accuracy: 0.8768\n",
      "Epoch 3/10\n",
      "5/5 [==============================] - 3s 692ms/step - loss: 0.0545 - binary_accuracy: 0.9491\n",
      "Epoch 4/10\n",
      "5/5 [==============================] - 4s 839ms/step - loss: 0.0507 - binary_accuracy: 0.9448\n",
      "Epoch 5/10\n",
      "5/5 [==============================] - 4s 744ms/step - loss: 0.0321 - binary_accuracy: 0.9694\n",
      "Epoch 6/10\n",
      "5/5 [==============================] - 4s 717ms/step - loss: 0.0258 - binary_accuracy: 0.9785\n",
      "Epoch 7/10\n",
      "5/5 [==============================] - 4s 712ms/step - loss: 0.0227 - binary_accuracy: 0.9807\n",
      "Epoch 8/10\n",
      "5/5 [==============================] - 3s 683ms/step - loss: 0.0259 - binary_accuracy: 0.9741\n",
      "Epoch 9/10\n",
      "5/5 [==============================] - 3s 689ms/step - loss: 0.0201 - binary_accuracy: 0.9827\n",
      "Epoch 10/10\n",
      "5/5 [==============================] - 4s 714ms/step - loss: 0.0189 - binary_accuracy: 0.9840\n"
     ]
    },
    {
     "data": {
      "text/plain": [
       "<tensorflow.python.keras.callbacks.History at 0x14824bfd0>"
      ]
     },
     "execution_count": 54,
     "metadata": {},
     "output_type": "execute_result"
    }
   ],
   "source": [
    "rnn_model.fit(\n",
    "    x=dataset.to_weighted_tfds({1: 0.5, 0: 0.5}),\n",
    "    epochs=10,\n",
    ")"
   ]
  },
  {
   "cell_type": "markdown",
   "metadata": {},
   "source": [
    "This looks much better now. Accuracy close to 100% as it should be."
   ]
  },
  {
   "cell_type": "code",
   "execution_count": null,
   "metadata": {},
   "outputs": [],
   "source": []
  }
 ],
 "metadata": {
  "kernelspec": {
   "display_name": "Python 3",
   "language": "python",
   "name": "python3"
  },
  "language_info": {
   "codemirror_mode": {
    "name": "ipython",
    "version": 3
   },
   "file_extension": ".py",
   "mimetype": "text/x-python",
   "name": "python",
   "nbconvert_exporter": "python",
   "pygments_lexer": "ipython3",
   "version": "3.7.7"
  }
 },
 "nbformat": 4,
 "nbformat_minor": 2
}
