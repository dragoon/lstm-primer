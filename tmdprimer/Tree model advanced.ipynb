{
 "cells": [
  {
   "cell_type": "markdown",
   "metadata": {},
   "source": [
    "# Sequence classification with Neural Networks: a primer\n",
    "## Part 2: Advnced Tree model\n",
    "\n",
    "In this notebook we will try to give our tree model a boost by using values from previous timesteps as separate features."
   ]
  },
  {
   "cell_type": "code",
   "execution_count": 1,
   "metadata": {},
   "outputs": [],
   "source": [
    "import altair as alt\n",
    "import pandas as pd\n",
    "\n",
    "import os\n",
    "import sys\n",
    "module_path = os.path.abspath(os.path.join('..'))\n",
    "if module_path not in sys.path:\n",
    "    sys.path.append(module_path)\n",
    "\n",
    "from tmdprimer.datagen import Dataset"
   ]
  },
  {
   "cell_type": "code",
   "execution_count": 5,
   "metadata": {},
   "outputs": [],
   "source": [
    "from sklearn.ensemble import RandomForestClassifier\n",
    "from sklearn.metrics import accuracy_score\n",
    "data_trees = []\n",
    "\n",
    "def get_windowed_data(dataset: Dataset, window_size: int):\n",
    "    # use the same as we use for CNN\n",
    "    tfds = dataset.to_cnn_tfds(2, batch_size=1)\n",
    "    # I'm not a numpy ninja so let's just append to arrays\n",
    "    X = []\n",
    "    y = []\n",
    "    for elem in tfds:\n",
    "        X.append(elem[0][0].numpy().ravel(order='C'))\n",
    "        y.append(elem[1].numpy().ravel(order='C')[0])\n",
    "    return X, y\n",
    "\n",
    "for outlier_prob in (0.01, 0.05, 0.1, 0.2, 0.3, 0.4, 0.5, 0.6, 0.7, 0.8, 0.9, 1.0):\n",
    "    for window_size in (1, 2, 5):\n",
    "        dataset = Dataset.generate(train_outlier_prob=outlier_prob)\n",
    "        X, y = get_windowed_data(dataset, window_size=2)\n",
    "\n",
    "        clf = RandomForestClassifier(n_estimators=10, class_weight=\"balanced\")\n",
    "        clf.fit(X, y)\n",
    "        dataset_test = Dataset.generate(train_outlier_prob=outlier_prob, n_samples=20)\n",
    "        X_test, y_test = get_windowed_data(dataset_test, window_size=2)\n",
    "        y_pred = clf.predict(X_test)\n",
    "        acc = accuracy_score(y_test, y_pred)\n",
    "        data_trees.append({'outlier_prob': outlier_prob, 'accuracy': acc, 'window_size': window_size})\n",
    "df_trees = pd.DataFrame(data_trees)"
   ]
  },
  {
   "cell_type": "code",
   "execution_count": 6,
   "metadata": {},
   "outputs": [
    {
     "data": {
      "text/html": [
       "\n",
       "<div id=\"altair-viz-817ec2709164451a89655efaac21b0ed\"></div>\n",
       "<script type=\"text/javascript\">\n",
       "  (function(spec, embedOpt){\n",
       "    let outputDiv = document.currentScript.previousElementSibling;\n",
       "    if (outputDiv.id !== \"altair-viz-817ec2709164451a89655efaac21b0ed\") {\n",
       "      outputDiv = document.getElementById(\"altair-viz-817ec2709164451a89655efaac21b0ed\");\n",
       "    }\n",
       "    const paths = {\n",
       "      \"vega\": \"https://cdn.jsdelivr.net/npm//vega@5?noext\",\n",
       "      \"vega-lib\": \"https://cdn.jsdelivr.net/npm//vega-lib?noext\",\n",
       "      \"vega-lite\": \"https://cdn.jsdelivr.net/npm//vega-lite@4.8.1?noext\",\n",
       "      \"vega-embed\": \"https://cdn.jsdelivr.net/npm//vega-embed@6?noext\",\n",
       "    };\n",
       "\n",
       "    function loadScript(lib) {\n",
       "      return new Promise(function(resolve, reject) {\n",
       "        var s = document.createElement('script');\n",
       "        s.src = paths[lib];\n",
       "        s.async = true;\n",
       "        s.onload = () => resolve(paths[lib]);\n",
       "        s.onerror = () => reject(`Error loading script: ${paths[lib]}`);\n",
       "        document.getElementsByTagName(\"head\")[0].appendChild(s);\n",
       "      });\n",
       "    }\n",
       "\n",
       "    function showError(err) {\n",
       "      outputDiv.innerHTML = `<div class=\"error\" style=\"color:red;\">${err}</div>`;\n",
       "      throw err;\n",
       "    }\n",
       "\n",
       "    function displayChart(vegaEmbed) {\n",
       "      vegaEmbed(outputDiv, spec, embedOpt)\n",
       "        .catch(err => showError(`Javascript Error: ${err.message}<br>This usually means there's a typo in your chart specification. See the javascript console for the full traceback.`));\n",
       "    }\n",
       "\n",
       "    if(typeof define === \"function\" && define.amd) {\n",
       "      requirejs.config({paths});\n",
       "      require([\"vega-embed\"], displayChart, err => showError(`Error loading script: ${err.message}`));\n",
       "    } else if (typeof vegaEmbed === \"function\") {\n",
       "      displayChart(vegaEmbed);\n",
       "    } else {\n",
       "      loadScript(\"vega\")\n",
       "        .then(() => loadScript(\"vega-lite\"))\n",
       "        .then(() => loadScript(\"vega-embed\"))\n",
       "        .catch(showError)\n",
       "        .then(() => displayChart(vegaEmbed));\n",
       "    }\n",
       "  })({\"config\": {\"view\": {\"continuousWidth\": 400, \"continuousHeight\": 300}}, \"data\": {\"name\": \"data-4471209c0deb498558c9ff385078e623\"}, \"mark\": \"line\", \"encoding\": {\"color\": {\"type\": \"nominal\", \"field\": \"window_size\"}, \"x\": {\"type\": \"quantitative\", \"field\": \"outlier_prob\"}, \"y\": {\"type\": \"quantitative\", \"field\": \"accuracy\"}}, \"$schema\": \"https://vega.github.io/schema/vega-lite/v4.8.1.json\", \"datasets\": {\"data-4471209c0deb498558c9ff385078e623\": [{\"outlier_prob\": 0.01, \"accuracy\": 0.9980906627248091, \"window_size\": 1}, {\"outlier_prob\": 0.01, \"accuracy\": 0.9980959634424981, \"window_size\": 2}, {\"outlier_prob\": 0.01, \"accuracy\": 0.9987379531895365, \"window_size\": 5}, {\"outlier_prob\": 0.05, \"accuracy\": 0.9961903572320759, \"window_size\": 1}, {\"outlier_prob\": 0.05, \"accuracy\": 0.9949664429530202, \"window_size\": 2}, {\"outlier_prob\": 0.05, \"accuracy\": 0.9968962286249707, \"window_size\": 5}, {\"outlier_prob\": 0.1, \"accuracy\": 0.9913831692032229, \"window_size\": 1}, {\"outlier_prob\": 0.1, \"accuracy\": 0.9911587659894657, \"window_size\": 2}, {\"outlier_prob\": 0.1, \"accuracy\": 0.9905046826222684, \"window_size\": 5}, {\"outlier_prob\": 0.2, \"accuracy\": 0.9735851686646223, \"window_size\": 1}, {\"outlier_prob\": 0.2, \"accuracy\": 0.9751351351351352, \"window_size\": 2}, {\"outlier_prob\": 0.2, \"accuracy\": 0.9736032803690415, \"window_size\": 5}, {\"outlier_prob\": 0.3, \"accuracy\": 0.9495277449822904, \"window_size\": 1}, {\"outlier_prob\": 0.3, \"accuracy\": 0.9475354742345033, \"window_size\": 2}, {\"outlier_prob\": 0.3, \"accuracy\": 0.9482936918304034, \"window_size\": 5}, {\"outlier_prob\": 0.4, \"accuracy\": 0.9091869716558926, \"window_size\": 1}, {\"outlier_prob\": 0.4, \"accuracy\": 0.9118841364374661, \"window_size\": 2}, {\"outlier_prob\": 0.4, \"accuracy\": 0.9111985472154963, \"window_size\": 5}, {\"outlier_prob\": 0.5, \"accuracy\": 0.8643497757847534, \"window_size\": 1}, {\"outlier_prob\": 0.5, \"accuracy\": 0.8614987440692158, \"window_size\": 2}, {\"outlier_prob\": 0.5, \"accuracy\": 0.8640285071267817, \"window_size\": 5}, {\"outlier_prob\": 0.6, \"accuracy\": 0.8061575726670066, \"window_size\": 1}, {\"outlier_prob\": 0.6, \"accuracy\": 0.8143972885352195, \"window_size\": 2}, {\"outlier_prob\": 0.6, \"accuracy\": 0.8098039215686275, \"window_size\": 5}, {\"outlier_prob\": 0.7, \"accuracy\": 0.7454066771230115, \"window_size\": 1}, {\"outlier_prob\": 0.7, \"accuracy\": 0.7485461091110496, \"window_size\": 2}, {\"outlier_prob\": 0.7, \"accuracy\": 0.7435205183585313, \"window_size\": 5}, {\"outlier_prob\": 0.8, \"accuracy\": 0.6773652694610779, \"window_size\": 1}, {\"outlier_prob\": 0.8, \"accuracy\": 0.6752051893036801, \"window_size\": 2}, {\"outlier_prob\": 0.8, \"accuracy\": 0.6795827123695977, \"window_size\": 5}, {\"outlier_prob\": 0.9, \"accuracy\": 0.5908293660736658, \"window_size\": 1}, {\"outlier_prob\": 0.9, \"accuracy\": 0.5870600688012702, \"window_size\": 2}, {\"outlier_prob\": 0.9, \"accuracy\": 0.5851311595979407, \"window_size\": 5}, {\"outlier_prob\": 1.0, \"accuracy\": 0.49993627326026, \"window_size\": 1}, {\"outlier_prob\": 1.0, \"accuracy\": 0.5, \"window_size\": 2}, {\"outlier_prob\": 1.0, \"accuracy\": 0.4998720245712823, \"window_size\": 5}]}}, {\"mode\": \"vega-lite\"});\n",
       "</script>"
      ],
      "text/plain": [
       "alt.Chart(...)"
      ]
     },
     "execution_count": 6,
     "metadata": {},
     "output_type": "execute_result"
    }
   ],
   "source": [
    "alt.Chart(df_trees).mark_line().encode(x='outlier_prob', y='accuracy', color='window_size:N')"
   ]
  },
  {
   "cell_type": "markdown",
   "metadata": {},
   "source": [
    "Didn't change anything"
   ]
  },
  {
   "cell_type": "code",
   "execution_count": null,
   "metadata": {},
   "outputs": [],
   "source": [
    "from sklearn.ensemble import RandomForestClassifier\n",
    "from sklearn.metrics import accuracy_score\n",
    "data_trees = []\n",
    "\n",
    "for outlier_prob in (0.01, 0.05, 0.1, 0.2, 0.3, 0.4, 0.5, 0.6, 0.7, 0.8, 0.9, 1.0):\n",
    "    for window_size in (1, 2, 5):\n",
    "        dataset = Dataset.generate(train_outlier_prob=outlier_prob)\n",
    "        X, y = get_windowed_data(dataset, window_size=2)\n",
    "\n",
    "        clf = RandomForestClassifier(n_estimators=10, class_weight=\"balanced\")\n",
    "        clf.fit(X, y)\n",
    "        dataset_test = Dataset.generate(train_outlier_prob=outlier_prob, n_samples=20)\n",
    "        X_test, y_test = get_windowed_data(dataset_test, window_size=2)\n",
    "        y_pred = clf.predict(X_test)\n",
    "        acc = accuracy_score(y_test, y_pred)\n",
    "        data_trees.append({'outlier_prob': outlier_prob, 'accuracy': acc, 'window_size': window_size})\n",
    "df_trees = pd.DataFrame(data_trees)"
   ]
  }
 ],
 "metadata": {
  "kernelspec": {
   "display_name": "Python 3",
   "language": "python",
   "name": "python3"
  },
  "language_info": {
   "codemirror_mode": {
    "name": "ipython",
    "version": 3
   },
   "file_extension": ".py",
   "mimetype": "text/x-python",
   "name": "python",
   "nbconvert_exporter": "python",
   "pygments_lexer": "ipython3",
   "version": "3.8.5"
  }
 },
 "nbformat": 4,
 "nbformat_minor": 2
}
