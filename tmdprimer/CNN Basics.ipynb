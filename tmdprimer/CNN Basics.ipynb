{
 "cells": [
  {
   "cell_type": "markdown",
   "metadata": {},
   "source": [
    "# Sequence classification with Neural Networks\n",
    "## Part 3: Basic CNN model"
   ]
  },
  {
   "cell_type": "code",
   "execution_count": 1,
   "metadata": {},
   "outputs": [],
   "source": [
    "# Load the TensorBoard notebook extension\n",
    "%load_ext tensorboard\n",
    "\n",
    "import altair as alt\n",
    "\n",
    "import numpy as np\n",
    "import pandas as pd\n",
    "\n",
    "import os\n",
    "import sys\n",
    "module_path = os.path.abspath(os.path.join('..'))\n",
    "if module_path not in sys.path:\n",
    "    sys.path.append(module_path)\n",
    "\n",
    "from tmdprimer.datagen import generate_sample, Dataset"
   ]
  },
  {
   "cell_type": "markdown",
   "metadata": {},
   "source": [
    "We're going to build a standard CNN architecture based on [this post](https://machinelearningmastery.com/cnn-models-for-human-activity-recognition-time-series-classification/) with two Conv1D layers and a single output layer for binary classification.\n",
    "\n",
    "The learning rate is adjusted with a schedule for faster convergence given our simple data."
   ]
  },
  {
   "cell_type": "code",
   "execution_count": 2,
   "metadata": {},
   "outputs": [],
   "source": [
    "import tensorflow as tf\n",
    "lr_schedule = tf.keras.optimizers.schedules.ExponentialDecay(\n",
    "        0.01,\n",
    "        decay_steps=1000,\n",
    "        decay_rate=0.5)\n",
    "\n",
    "def get_cnn_model(n_features, n_timesteps):\n",
    "    cnn_model = tf.keras.Sequential(\n",
    "        [\n",
    "            tf.keras.layers.Reshape((n_timesteps, n_features)),\n",
    "            tf.keras.layers.Conv1D(filters=32, kernel_size=3, activation='relu', input_shape=(n_timesteps, n_features)),\n",
    "            tf.keras.layers.Conv1D(filters=32, kernel_size=3, activation='relu'),\n",
    "            tf.keras.layers.Dropout(0.5),\n",
    "            tf.keras.layers.MaxPool1D(pool_size=1),\n",
    "            tf.keras.layers.Flatten(),\n",
    "            tf.keras.layers.Dense(20, activation='relu'),\n",
    "            tf.keras.layers.Dense(1, activation=\"sigmoid\")\n",
    "        ]\n",
    "    )\n",
    "\n",
    "    cnn_model.compile(\n",
    "            loss=\"binary_crossentropy\",\n",
    "            optimizer=tf.keras.optimizers.RMSprop(learning_rate=lr_schedule),\n",
    "            metrics=[tf.keras.metrics.BinaryAccuracy()]\n",
    "    )\n",
    "    return cnn_model"
   ]
  },
  {
   "cell_type": "code",
   "execution_count": 6,
   "metadata": {},
   "outputs": [
    {
     "name": "stdout",
     "output_type": "stream",
     "text": [
      "0.01\n",
      "0.05\n",
      "0.1\n",
      "0.2\n",
      "0.3\n",
      "0.4\n",
      "0.5\n",
      "0.6\n",
      "0.7\n",
      "0.8\n",
      "0.9\n",
      "1.0\n"
     ]
    }
   ],
   "source": [
    "data_cnn = []\n",
    "n_timesteps=5\n",
    "\n",
    "for outlier_prob in (0.01, 0.05, 0.1, 0.2, 0.3, 0.4, 0.5, 0.6, 0.7, 0.8, 0.9, 1.0):\n",
    "    print(outlier_prob)\n",
    "    dataset = Dataset.generate(train_outlier_prob=outlier_prob, n_samples=100)\n",
    "    model = get_cnn_model(n_features=1, n_timesteps=n_timesteps)\n",
    "\n",
    "    model.fit(\n",
    "        # we need larger batch sized here since we have many small windows\n",
    "        x=dataset.to_window_tfds(window_size=n_timesteps).batch(200),\n",
    "        epochs=10,\n",
    "        verbose=0\n",
    "    )\n",
    "    dataset = Dataset.generate(train_outlier_prob=outlier_prob, n_samples=20)\n",
    "    res = model.evaluate(dataset.to_window_tfds(n_timesteps).batch(20), verbose=0)\n",
    "    data_cnn.append({'outlier_prob': outlier_prob, 'accuracy': res[1], 'window_size': n_timesteps})\n",
    "    \n",
    "df_cnn = pd.DataFrame(data_cnn)"
   ]
  },
  {
   "cell_type": "code",
   "execution_count": 7,
   "metadata": {},
   "outputs": [
    {
     "data": {
      "text/html": [
       "\n",
       "<div id=\"altair-viz-ad51b8fdc9dd474c80a48a4eaa70352b\"></div>\n",
       "<script type=\"text/javascript\">\n",
       "  (function(spec, embedOpt){\n",
       "    let outputDiv = document.currentScript.previousElementSibling;\n",
       "    if (outputDiv.id !== \"altair-viz-ad51b8fdc9dd474c80a48a4eaa70352b\") {\n",
       "      outputDiv = document.getElementById(\"altair-viz-ad51b8fdc9dd474c80a48a4eaa70352b\");\n",
       "    }\n",
       "    const paths = {\n",
       "      \"vega\": \"https://cdn.jsdelivr.net/npm//vega@5?noext\",\n",
       "      \"vega-lib\": \"https://cdn.jsdelivr.net/npm//vega-lib?noext\",\n",
       "      \"vega-lite\": \"https://cdn.jsdelivr.net/npm//vega-lite@4.8.1?noext\",\n",
       "      \"vega-embed\": \"https://cdn.jsdelivr.net/npm//vega-embed@6?noext\",\n",
       "    };\n",
       "\n",
       "    function loadScript(lib) {\n",
       "      return new Promise(function(resolve, reject) {\n",
       "        var s = document.createElement('script');\n",
       "        s.src = paths[lib];\n",
       "        s.async = true;\n",
       "        s.onload = () => resolve(paths[lib]);\n",
       "        s.onerror = () => reject(`Error loading script: ${paths[lib]}`);\n",
       "        document.getElementsByTagName(\"head\")[0].appendChild(s);\n",
       "      });\n",
       "    }\n",
       "\n",
       "    function showError(err) {\n",
       "      outputDiv.innerHTML = `<div class=\"error\" style=\"color:red;\">${err}</div>`;\n",
       "      throw err;\n",
       "    }\n",
       "\n",
       "    function displayChart(vegaEmbed) {\n",
       "      vegaEmbed(outputDiv, spec, embedOpt)\n",
       "        .catch(err => showError(`Javascript Error: ${err.message}<br>This usually means there's a typo in your chart specification. See the javascript console for the full traceback.`));\n",
       "    }\n",
       "\n",
       "    if(typeof define === \"function\" && define.amd) {\n",
       "      requirejs.config({paths});\n",
       "      require([\"vega-embed\"], displayChart, err => showError(`Error loading script: ${err.message}`));\n",
       "    } else if (typeof vegaEmbed === \"function\") {\n",
       "      displayChart(vegaEmbed);\n",
       "    } else {\n",
       "      loadScript(\"vega\")\n",
       "        .then(() => loadScript(\"vega-lite\"))\n",
       "        .then(() => loadScript(\"vega-embed\"))\n",
       "        .catch(showError)\n",
       "        .then(() => displayChart(vegaEmbed));\n",
       "    }\n",
       "  })({\"config\": {\"view\": {\"continuousWidth\": 400, \"continuousHeight\": 300}}, \"data\": {\"name\": \"data-6773542f810937e2c63f6c8ee8a936ad\"}, \"mark\": \"line\", \"encoding\": {\"x\": {\"type\": \"quantitative\", \"field\": \"outlier_prob\"}, \"y\": {\"type\": \"quantitative\", \"field\": \"accuracy\"}}, \"$schema\": \"https://vega.github.io/schema/vega-lite/v4.8.1.json\", \"datasets\": {\"data-6773542f810937e2c63f6c8ee8a936ad\": [{\"outlier_prob\": 0.01, \"accuracy\": 0.9996514916419983, \"window_size\": 5}, {\"outlier_prob\": 0.05, \"accuracy\": 0.9979472160339355, \"window_size\": 5}, {\"outlier_prob\": 0.1, \"accuracy\": 0.9967085719108582, \"window_size\": 5}, {\"outlier_prob\": 0.2, \"accuracy\": 0.9965287446975708, \"window_size\": 5}, {\"outlier_prob\": 0.3, \"accuracy\": 0.9925382733345032, \"window_size\": 5}, {\"outlier_prob\": 0.4, \"accuracy\": 0.9871214032173157, \"window_size\": 5}, {\"outlier_prob\": 0.5, \"accuracy\": 0.9770295023918152, \"window_size\": 5}, {\"outlier_prob\": 0.6, \"accuracy\": 0.9471593499183655, \"window_size\": 5}, {\"outlier_prob\": 0.7, \"accuracy\": 0.9006338715553284, \"window_size\": 5}, {\"outlier_prob\": 0.8, \"accuracy\": 0.8084348440170288, \"window_size\": 5}, {\"outlier_prob\": 0.9, \"accuracy\": 0.6904160380363464, \"window_size\": 5}, {\"outlier_prob\": 1.0, \"accuracy\": 0.49921754002571106, \"window_size\": 5}]}}, {\"mode\": \"vega-lite\"});\n",
       "</script>"
      ],
      "text/plain": [
       "alt.Chart(...)"
      ]
     },
     "execution_count": 7,
     "metadata": {},
     "output_type": "execute_result"
    }
   ],
   "source": [
    "alt.Chart(df_cnn[(df_cnn['window_size']==5)]).mark_line().encode(x='outlier_prob', y='accuracy')"
   ]
  },
  {
   "cell_type": "markdown",
   "metadata": {},
   "source": [
    "CNN performance looks pretty good too, with a faster than RNN decline with high outlier probabilities. Performance here may also depend on the number of previous observations we give to the network. The fewer previous observations there are, the higher the chance that all of them would be outliers. So let's see what effect has the **window size** on the network performance."
   ]
  },
  {
   "cell_type": "code",
   "execution_count": 8,
   "metadata": {},
   "outputs": [
    {
     "name": "stdout",
     "output_type": "stream",
     "text": [
      "0.01\n",
      "0.05\n",
      "0.1\n",
      "0.2\n",
      "0.3\n",
      "0.4\n",
      "0.5\n",
      "0.6\n",
      "0.7\n",
      "0.8\n",
      "0.9\n",
      "1.0\n"
     ]
    }
   ],
   "source": [
    "data_cnn = []\n",
    "n_timesteps=10\n",
    "for outlier_prob in (0.01, 0.05, 0.1, 0.2, 0.3, 0.4, 0.5, 0.6, 0.7, 0.8, 0.9, 1.0):\n",
    "    print(outlier_prob)\n",
    "    dataset = Dataset.generate(train_outlier_prob=outlier_prob, n_samples=100)\n",
    "    model = get_cnn_model(n_features=1, n_timesteps=n_timesteps)\n",
    "\n",
    "    model.fit(\n",
    "        x=dataset.to_window_tfds(window_size=n_timesteps).batch(200),\n",
    "        epochs=10,\n",
    "        verbose=0\n",
    "    )\n",
    "    dataset = Dataset.generate(train_outlier_prob=outlier_prob, n_samples=20)\n",
    "    res = model.evaluate(dataset.to_window_tfds(window_size=n_timesteps).batch(20), verbose=0)\n",
    "    data_cnn.append({'outlier_prob': outlier_prob, 'accuracy': res[1], 'window_size': n_timesteps})\n",
    "\n",
    "df_cnn = df_cnn.append(pd.DataFrame(data_cnn))"
   ]
  },
  {
   "cell_type": "code",
   "execution_count": 26,
   "metadata": {},
   "outputs": [
    {
     "data": {
      "text/html": [
       "\n",
       "<div id=\"altair-viz-1d5d218a6a5c4b1bbb0cd7be80dfa077\"></div>\n",
       "<script type=\"text/javascript\">\n",
       "  (function(spec, embedOpt){\n",
       "    let outputDiv = document.currentScript.previousElementSibling;\n",
       "    if (outputDiv.id !== \"altair-viz-1d5d218a6a5c4b1bbb0cd7be80dfa077\") {\n",
       "      outputDiv = document.getElementById(\"altair-viz-1d5d218a6a5c4b1bbb0cd7be80dfa077\");\n",
       "    }\n",
       "    const paths = {\n",
       "      \"vega\": \"https://cdn.jsdelivr.net/npm//vega@5?noext\",\n",
       "      \"vega-lib\": \"https://cdn.jsdelivr.net/npm//vega-lib?noext\",\n",
       "      \"vega-lite\": \"https://cdn.jsdelivr.net/npm//vega-lite@4.8.1?noext\",\n",
       "      \"vega-embed\": \"https://cdn.jsdelivr.net/npm//vega-embed@6?noext\",\n",
       "    };\n",
       "\n",
       "    function loadScript(lib) {\n",
       "      return new Promise(function(resolve, reject) {\n",
       "        var s = document.createElement('script');\n",
       "        s.src = paths[lib];\n",
       "        s.async = true;\n",
       "        s.onload = () => resolve(paths[lib]);\n",
       "        s.onerror = () => reject(`Error loading script: ${paths[lib]}`);\n",
       "        document.getElementsByTagName(\"head\")[0].appendChild(s);\n",
       "      });\n",
       "    }\n",
       "\n",
       "    function showError(err) {\n",
       "      outputDiv.innerHTML = `<div class=\"error\" style=\"color:red;\">${err}</div>`;\n",
       "      throw err;\n",
       "    }\n",
       "\n",
       "    function displayChart(vegaEmbed) {\n",
       "      vegaEmbed(outputDiv, spec, embedOpt)\n",
       "        .catch(err => showError(`Javascript Error: ${err.message}<br>This usually means there's a typo in your chart specification. See the javascript console for the full traceback.`));\n",
       "    }\n",
       "\n",
       "    if(typeof define === \"function\" && define.amd) {\n",
       "      requirejs.config({paths});\n",
       "      require([\"vega-embed\"], displayChart, err => showError(`Error loading script: ${err.message}`));\n",
       "    } else if (typeof vegaEmbed === \"function\") {\n",
       "      displayChart(vegaEmbed);\n",
       "    } else {\n",
       "      loadScript(\"vega\")\n",
       "        .then(() => loadScript(\"vega-lite\"))\n",
       "        .then(() => loadScript(\"vega-embed\"))\n",
       "        .catch(showError)\n",
       "        .then(() => displayChart(vegaEmbed));\n",
       "    }\n",
       "  })({\"config\": {\"view\": {\"continuousWidth\": 400, \"continuousHeight\": 300}}, \"data\": {\"name\": \"data-5d73fbc83f66f18a919b40c4e406d590\"}, \"mark\": \"line\", \"encoding\": {\"color\": {\"type\": \"nominal\", \"field\": \"window_size\"}, \"x\": {\"type\": \"quantitative\", \"field\": \"outlier_prob\"}, \"y\": {\"type\": \"quantitative\", \"field\": \"accuracy\"}}, \"$schema\": \"https://vega.github.io/schema/vega-lite/v4.8.1.json\", \"datasets\": {\"data-5d73fbc83f66f18a919b40c4e406d590\": [{\"outlier_prob\": 0.01, \"accuracy\": 0.9996514916419983, \"window_size\": 5}, {\"outlier_prob\": 0.05, \"accuracy\": 0.9979472160339355, \"window_size\": 5}, {\"outlier_prob\": 0.1, \"accuracy\": 0.9967085719108582, \"window_size\": 5}, {\"outlier_prob\": 0.2, \"accuracy\": 0.9965287446975708, \"window_size\": 5}, {\"outlier_prob\": 0.3, \"accuracy\": 0.9925382733345032, \"window_size\": 5}, {\"outlier_prob\": 0.4, \"accuracy\": 0.9871214032173157, \"window_size\": 5}, {\"outlier_prob\": 0.5, \"accuracy\": 0.9770295023918152, \"window_size\": 5}, {\"outlier_prob\": 0.6, \"accuracy\": 0.9471593499183655, \"window_size\": 5}, {\"outlier_prob\": 0.7, \"accuracy\": 0.9006338715553284, \"window_size\": 5}, {\"outlier_prob\": 0.8, \"accuracy\": 0.8084348440170288, \"window_size\": 5}, {\"outlier_prob\": 0.9, \"accuracy\": 0.6904160380363464, \"window_size\": 5}, {\"outlier_prob\": 1.0, \"accuracy\": 0.49921754002571106, \"window_size\": 5}, {\"outlier_prob\": 0.01, \"accuracy\": 0.9998093843460083, \"window_size\": 10}, {\"outlier_prob\": 0.05, \"accuracy\": 0.9985431432723999, \"window_size\": 10}, {\"outlier_prob\": 0.1, \"accuracy\": 0.9975416660308838, \"window_size\": 10}, {\"outlier_prob\": 0.2, \"accuracy\": 0.996542, \"window_size\": 10}, {\"outlier_prob\": 0.3, \"accuracy\": 0.9946578741073608, \"window_size\": 10}, {\"outlier_prob\": 0.4, \"accuracy\": 0.9936164617538452, \"window_size\": 10}, {\"outlier_prob\": 0.5, \"accuracy\": 0.990863561630249, \"window_size\": 10}, {\"outlier_prob\": 0.6, \"accuracy\": 0.9862521886825562, \"window_size\": 10}, {\"outlier_prob\": 0.7, \"accuracy\": 0.9704529047012329, \"window_size\": 10}, {\"outlier_prob\": 0.8, \"accuracy\": 0.9283704161643982, \"window_size\": 10}, {\"outlier_prob\": 0.9, \"accuracy\": 0.8056866526603699, \"window_size\": 10}, {\"outlier_prob\": 1.0, \"accuracy\": 0.5006381273269653, \"window_size\": 10}]}}, {\"mode\": \"vega-lite\"});\n",
       "</script>"
      ],
      "text/plain": [
       "alt.Chart(...)"
      ]
     },
     "execution_count": 26,
     "metadata": {},
     "output_type": "execute_result"
    }
   ],
   "source": [
    "alt.Chart(df_cnn).mark_line().encode(x='outlier_prob', y='accuracy', color='window_size:N')"
   ]
  },
  {
   "cell_type": "markdown",
   "metadata": {},
   "source": [
    "Hypothesis confirmed, we can see that increasing the window size helps the model to perform better at higher levels of outliers."
   ]
  },
  {
   "cell_type": "markdown",
   "metadata": {},
   "source": [
    "Finally, as for RNN, let's see how the tensorboard graphs look like for CNN:"
   ]
  },
  {
   "cell_type": "code",
   "execution_count": 3,
   "metadata": {},
   "outputs": [
    {
     "name": "stdout",
     "output_type": "stream",
     "text": [
      "Epoch 1/10\n",
      "789/789 [==============================] - 20s 24ms/step - loss: 0.1481 - binary_accuracy: 0.9427\n",
      "Epoch 2/10\n",
      "789/789 [==============================] - 20s 26ms/step - loss: 0.0085 - binary_accuracy: 0.9971\n",
      "Epoch 3/10\n",
      "789/789 [==============================] - 20s 25ms/step - loss: 0.0036 - binary_accuracy: 0.9988\n",
      "Epoch 4/10\n",
      "789/789 [==============================] - 20s 25ms/step - loss: 0.0019 - binary_accuracy: 0.9994\n",
      "Epoch 5/10\n",
      "789/789 [==============================] - 20s 26ms/step - loss: 0.0013 - binary_accuracy: 0.9997\n",
      "Epoch 6/10\n",
      "789/789 [==============================] - 22s 28ms/step - loss: 0.0011 - binary_accuracy: 0.9997\n",
      "Epoch 7/10\n",
      "789/789 [==============================] - 20s 26ms/step - loss: 8.8400e-04 - binary_accuracy: 0.9998\n",
      "Epoch 8/10\n",
      "789/789 [==============================] - 20s 25ms/step - loss: 0.0010 - binary_accuracy: 0.9998\n",
      "Epoch 9/10\n",
      "789/789 [==============================] - 21s 27ms/step - loss: 0.0015 - binary_accuracy: 0.9996\n",
      "Epoch 10/10\n",
      "789/789 [==============================] - 21s 26ms/step - loss: 0.0015 - binary_accuracy: 0.9997\n"
     ]
    },
    {
     "data": {
      "text/plain": [
       "<tensorflow.python.keras.callbacks.History at 0x1520dbee0>"
      ]
     },
     "execution_count": 3,
     "metadata": {},
     "output_type": "execute_result"
    }
   ],
   "source": [
    "# Clear any logs from previous runs\n",
    "from datetime import datetime\n",
    "!rm -rf ./logs/\n",
    "log_dir = \"logs/fit/\" + datetime.now().strftime(\"%Y%m%d-%H%M%S\")\n",
    "tensorboard_callback = tf.keras.callbacks.TensorBoard(log_dir=log_dir, histogram_freq=1)\n",
    "\n",
    "dataset = Dataset.generate(n_samples=200)\n",
    "\n",
    "get_cnn_model(n_features=1, n_timesteps=5).fit(\n",
    "    x=dataset.to_window_tfds(window_size=5).batch(200),\n",
    "    epochs=10,\n",
    "    callbacks=[tensorboard_callback]\n",
    ")\n",
    "\n",
    "#%tensorboard --logdir logs/fit"
   ]
  },
  {
   "cell_type": "code",
   "execution_count": null,
   "metadata": {},
   "outputs": [],
   "source": []
  }
 ],
 "metadata": {
  "kernelspec": {
   "display_name": "Python 3",
   "language": "python",
   "name": "python3"
  },
  "language_info": {
   "codemirror_mode": {
    "name": "ipython",
    "version": 3
   },
   "file_extension": ".py",
   "mimetype": "text/x-python",
   "name": "python",
   "nbconvert_exporter": "python",
   "pygments_lexer": "ipython3",
   "version": "3.8.5"
  }
 },
 "nbformat": 4,
 "nbformat_minor": 2
}
