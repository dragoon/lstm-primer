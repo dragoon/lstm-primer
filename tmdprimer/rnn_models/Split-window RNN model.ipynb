{
 "cells": [
  {
   "cell_type": "markdown",
   "metadata": {},
   "source": [
    "# Sequence classification with Neural Networks\n",
    "## Split-window RNN model\n",
    "\n",
    "Now we're going to try split-window RNN model. We are doing this because feeding whole sequence of your data might be impractican for a number of reasons:\n",
    "\n",
    "* one sample of high-frequency data (like acceleration) might not even fit into GPU memory and the training will crash\n",
    "* model might not be able to learn properly on long sequences\n",
    "* avoids the need for padding/masking since we will have equal size windows"
   ]
  },
  {
   "cell_type": "code",
   "execution_count": 1,
   "metadata": {},
   "outputs": [],
   "source": [
    "# Load the TensorBoard notebook extension\n",
    "%load_ext tensorboard\n",
    "import altair as alt\n",
    "\n",
    "import numpy as np\n",
    "import pandas as pd\n",
    "\n",
    "import os\n",
    "import sys\n",
    "module_path = os.path.abspath(os.path.join('../..'))\n",
    "if module_path not in sys.path:\n",
    "    sys.path.append(module_path)\n",
    "\n",
    "from tmdprimer.datagen import generate_sample, Dataset, Sample"
   ]
  },
  {
   "cell_type": "markdown",
   "metadata": {},
   "source": [
    "We're going to use the same network as for the per-sample RNN:"
   ]
  },
  {
   "cell_type": "code",
   "execution_count": 2,
   "metadata": {},
   "outputs": [],
   "source": [
    "import tensorflow as tf\n",
    "\n",
    "# converge faster\n",
    "lr_schedule = tf.keras.optimizers.schedules.ExponentialDecay(\n",
    "        0.01,\n",
    "        decay_steps=100,\n",
    "        decay_rate=0.7)\n",
    "\n",
    "def get_rnn_model():\n",
    "    rnn_model = tf.keras.Sequential(\n",
    "        [\n",
    "            tf.keras.layers.GRU(8, return_sequences=True),\n",
    "            tf.keras.layers.Dense(1, activation=\"sigmoid\")\n",
    "        ]\n",
    "    )\n",
    "    rnn_model.compile(\n",
    "        loss=\"binary_crossentropy\",\n",
    "        optimizer=tf.keras.optimizers.RMSprop(learning_rate=lr_schedule),\n",
    "        metrics=[tf.keras.metrics.BinaryAccuracy()]\n",
    "    )\n",
    "    return rnn_model"
   ]
  },
  {
   "cell_type": "code",
   "execution_count": 3,
   "metadata": {},
   "outputs": [
    {
     "name": "stdout",
     "output_type": "stream",
     "text": [
      "0.01\n",
      "0.05\n",
      "0.1\n",
      "0.2\n",
      "0.3\n",
      "0.4\n",
      "0.5\n",
      "0.6\n",
      "0.7\n",
      "0.8\n",
      "0.9\n",
      "1.0\n"
     ]
    }
   ],
   "source": [
    "data_rnn = []\n",
    "for outlier_prob in (0.01, 0.05, 0.1, 0.2, 0.3, 0.4, 0.5, 0.6, 0.7, 0.8, 0.9, 1.0):\n",
    "    print(outlier_prob)\n",
    "    dataset = Dataset.generate(train_outlier_prob=outlier_prob, n_samples=100)    \n",
    "    model = get_rnn_model()\n",
    "\n",
    "    model.fit(\n",
    "        x=dataset.to_split_window_tfds(window_size=50).batch(32),\n",
    "        epochs=10,\n",
    "        verbose=0\n",
    "    )\n",
    "    test_dataset = Dataset.generate(train_outlier_prob=outlier_prob, n_samples=20)\n",
    "    res = model.evaluate(test_dataset.to_split_window_tfds(window_size=50).batch(32), verbose=0)\n",
    "    data_rnn.append({'outlier_prob': outlier_prob, 'accuracy': res[1]})\n",
    "    \n",
    "df_rnn = pd.DataFrame(data_rnn)"
   ]
  },
  {
   "cell_type": "code",
   "execution_count": 4,
   "metadata": {},
   "outputs": [
    {
     "data": {
      "text/html": [
       "\n",
       "<div id=\"altair-viz-d483c50490364fffbd925112783c5bd3\"></div>\n",
       "<script type=\"text/javascript\">\n",
       "  (function(spec, embedOpt){\n",
       "    let outputDiv = document.currentScript.previousElementSibling;\n",
       "    if (outputDiv.id !== \"altair-viz-d483c50490364fffbd925112783c5bd3\") {\n",
       "      outputDiv = document.getElementById(\"altair-viz-d483c50490364fffbd925112783c5bd3\");\n",
       "    }\n",
       "    const paths = {\n",
       "      \"vega\": \"https://cdn.jsdelivr.net/npm//vega@5?noext\",\n",
       "      \"vega-lib\": \"https://cdn.jsdelivr.net/npm//vega-lib?noext\",\n",
       "      \"vega-lite\": \"https://cdn.jsdelivr.net/npm//vega-lite@4.8.1?noext\",\n",
       "      \"vega-embed\": \"https://cdn.jsdelivr.net/npm//vega-embed@6?noext\",\n",
       "    };\n",
       "\n",
       "    function loadScript(lib) {\n",
       "      return new Promise(function(resolve, reject) {\n",
       "        var s = document.createElement('script');\n",
       "        s.src = paths[lib];\n",
       "        s.async = true;\n",
       "        s.onload = () => resolve(paths[lib]);\n",
       "        s.onerror = () => reject(`Error loading script: ${paths[lib]}`);\n",
       "        document.getElementsByTagName(\"head\")[0].appendChild(s);\n",
       "      });\n",
       "    }\n",
       "\n",
       "    function showError(err) {\n",
       "      outputDiv.innerHTML = `<div class=\"error\" style=\"color:red;\">${err}</div>`;\n",
       "      throw err;\n",
       "    }\n",
       "\n",
       "    function displayChart(vegaEmbed) {\n",
       "      vegaEmbed(outputDiv, spec, embedOpt)\n",
       "        .catch(err => showError(`Javascript Error: ${err.message}<br>This usually means there's a typo in your chart specification. See the javascript console for the full traceback.`));\n",
       "    }\n",
       "\n",
       "    if(typeof define === \"function\" && define.amd) {\n",
       "      requirejs.config({paths});\n",
       "      require([\"vega-embed\"], displayChart, err => showError(`Error loading script: ${err.message}`));\n",
       "    } else if (typeof vegaEmbed === \"function\") {\n",
       "      displayChart(vegaEmbed);\n",
       "    } else {\n",
       "      loadScript(\"vega\")\n",
       "        .then(() => loadScript(\"vega-lite\"))\n",
       "        .then(() => loadScript(\"vega-embed\"))\n",
       "        .catch(showError)\n",
       "        .then(() => displayChart(vegaEmbed));\n",
       "    }\n",
       "  })({\"config\": {\"view\": {\"continuousWidth\": 400, \"continuousHeight\": 300}}, \"data\": {\"name\": \"data-9a267940c306f428497c2d5921cff3bb\"}, \"mark\": \"line\", \"encoding\": {\"x\": {\"type\": \"quantitative\", \"field\": \"outlier_prob\"}, \"y\": {\"type\": \"quantitative\", \"field\": \"accuracy\"}}, \"$schema\": \"https://vega.github.io/schema/vega-lite/v4.8.1.json\", \"datasets\": {\"data-9a267940c306f428497c2d5921cff3bb\": [{\"outlier_prob\": 0.01, \"accuracy\": 0.9506344199180603}, {\"outlier_prob\": 0.05, \"accuracy\": 0.9514124393463135}, {\"outlier_prob\": 0.1, \"accuracy\": 0.949419379234314}, {\"outlier_prob\": 0.2, \"accuracy\": 0.9434782862663269}, {\"outlier_prob\": 0.3, \"accuracy\": 0.9411603808403015}, {\"outlier_prob\": 0.4, \"accuracy\": 0.9374555945396423}, {\"outlier_prob\": 0.5, \"accuracy\": 0.937683641910553}, {\"outlier_prob\": 0.6, \"accuracy\": 0.9346325993537903}, {\"outlier_prob\": 0.7, \"accuracy\": 0.9170551896095276}, {\"outlier_prob\": 0.8, \"accuracy\": 0.8895792961120605}, {\"outlier_prob\": 0.9, \"accuracy\": 0.8429866433143616}, {\"outlier_prob\": 1.0, \"accuracy\": 0.5192026495933533}]}}, {\"mode\": \"vega-lite\"});\n",
       "</script>"
      ],
      "text/plain": [
       "alt.Chart(...)"
      ]
     },
     "execution_count": 4,
     "metadata": {},
     "output_type": "execute_result"
    }
   ],
   "source": [
    "alt.Chart(df_rnn).mark_line().encode(x='outlier_prob', y='accuracy')"
   ]
  },
  {
   "cell_type": "markdown",
   "metadata": {},
   "source": [
    "Looks quite similar to the per-sample RNN, but the accuracy of at the low levels of noise doesn't reach 0.99 for some reason. I don't know why this is happening, so let me know in the comments if you have an idea."
   ]
  },
  {
   "cell_type": "markdown",
   "metadata": {},
   "source": [
    "Let's see again how the tensorboard graphs look like for this RNN:"
   ]
  },
  {
   "cell_type": "code",
   "execution_count": 6,
   "metadata": {},
   "outputs": [
    {
     "name": "stdout",
     "output_type": "stream",
     "text": [
      "Epoch 1/10\n",
      "156/156 [==============================] - 5s 23ms/step - loss: 0.3542 - binary_accuracy: 0.8406\n",
      "Epoch 2/10\n",
      "156/156 [==============================] - 3s 18ms/step - loss: 0.1942 - binary_accuracy: 0.9414\n",
      "Epoch 3/10\n",
      "156/156 [==============================] - 3s 20ms/step - loss: 0.1860 - binary_accuracy: 0.9445\n",
      "Epoch 4/10\n",
      "156/156 [==============================] - 3s 19ms/step - loss: 0.1820 - binary_accuracy: 0.9457\n",
      "Epoch 5/10\n",
      "156/156 [==============================] - 3s 19ms/step - loss: 0.1795 - binary_accuracy: 0.9464\n",
      "Epoch 6/10\n",
      "156/156 [==============================] - 3s 20ms/step - loss: 0.1780 - binary_accuracy: 0.9469\n",
      "Epoch 7/10\n",
      "156/156 [==============================] - 3s 20ms/step - loss: 0.1770 - binary_accuracy: 0.9473\n",
      "Epoch 8/10\n",
      "156/156 [==============================] - 3s 19ms/step - loss: 0.1764 - binary_accuracy: 0.9475\n",
      "Epoch 9/10\n",
      "156/156 [==============================] - 3s 19ms/step - loss: 0.1760 - binary_accuracy: 0.9474\n",
      "Epoch 10/10\n",
      "156/156 [==============================] - 3s 19ms/step - loss: 0.1758 - binary_accuracy: 0.9475\n"
     ]
    },
    {
     "data": {
      "text/plain": [
       "<tensorflow.python.keras.callbacks.History at 0x16004e940>"
      ]
     },
     "execution_count": 6,
     "metadata": {},
     "output_type": "execute_result"
    }
   ],
   "source": [
    "# Clear any logs from previous runs\n",
    "from datetime import datetime\n",
    "!rm -rf ./logs/\n",
    "log_dir = \"logs/fit/\" + datetime.now().strftime(\"%Y%m%d-%H%M%S\")\n",
    "tensorboard_callback = tf.keras.callbacks.TensorBoard(log_dir=log_dir, histogram_freq=1)\n",
    "\n",
    "dataset = Dataset.generate(train_outlier_prob=0.10, n_samples=200)\n",
    "\n",
    "get_rnn_model().fit(\n",
    "    x=dataset.to_split_window_tfds(window_size=50).batch(20),\n",
    "    epochs=10,\n",
    "    callbacks=[tensorboard_callback]\n",
    ")\n",
    "\n",
    "#%tensorboard --logdir logs/fit"
   ]
  },
  {
   "cell_type": "code",
   "execution_count": null,
   "metadata": {},
   "outputs": [],
   "source": []
  }
 ],
 "metadata": {
  "kernelspec": {
   "display_name": "Python 3",
   "language": "python",
   "name": "python3"
  },
  "language_info": {
   "codemirror_mode": {
    "name": "ipython",
    "version": 3
   },
   "file_extension": ".py",
   "mimetype": "text/x-python",
   "name": "python",
   "nbconvert_exporter": "python",
   "pygments_lexer": "ipython3",
   "version": "3.8.5"
  }
 },
 "nbformat": 4,
 "nbformat_minor": 2
}
